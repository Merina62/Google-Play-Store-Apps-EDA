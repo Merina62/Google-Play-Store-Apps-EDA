{
  "nbformat": 4,
  "nbformat_minor": 0,
  "metadata": {
    "colab": {
      "provenance": []
    },
    "kernelspec": {
      "name": "python3",
      "display_name": "Python 3"
    },
    "language_info": {
      "name": "python"
    }
  },
  "cells": [
    {
      "cell_type": "markdown",
      "source": [
        "# Load and Inspect The Dataset"
      ],
      "metadata": {
        "id": "_08_aknjvJFe"
      }
    },
    {
      "cell_type": "code",
      "execution_count": 3,
      "metadata": {
        "colab": {
          "base_uri": "https://localhost:8080/"
        },
        "id": "LHccQ49wvE6M",
        "outputId": "307d7858-e042-40e8-c27f-91bb83c58d5a"
      },
      "outputs": [
        {
          "output_type": "stream",
          "name": "stdout",
          "text": [
            "Mounted at /content/drive\n"
          ]
        }
      ],
      "source": [
        "from google.colab import drive\n",
        "drive.mount('/content/drive')"
      ]
    },
    {
      "cell_type": "code",
      "source": [
        "import pandas as pd\n",
        "dataset=pd.read_csv(\"/content/drive/MyDrive/Google Datasets/googleplaystore.csv\")"
      ],
      "metadata": {
        "id": "gy0lP_ZLv2a2"
      },
      "execution_count": 4,
      "outputs": []
    },
    {
      "cell_type": "code",
      "source": [
        "# import librabries\n",
        "import pandas as pd\n",
        "import matplotlib.pyplot as pd\n",
        "import seaborn as sns\n",
        "import numpy as np"
      ],
      "metadata": {
        "id": "Iii-MiUYv7aE"
      },
      "execution_count": 5,
      "outputs": []
    },
    {
      "cell_type": "markdown",
      "source": [
        "**Dataset** **Information**"
      ],
      "metadata": {
        "id": "cpP9fticwEFx"
      }
    },
    {
      "cell_type": "code",
      "source": [
        "# Retrive the info from DataFrame dataset\n",
        "dataset.info()"
      ],
      "metadata": {
        "colab": {
          "base_uri": "https://localhost:8080/"
        },
        "id": "V19fOTA1wIMm",
        "outputId": "5e649eea-53e1-40f3-de49-98950ca891f7"
      },
      "execution_count": null,
      "outputs": [
        {
          "output_type": "stream",
          "name": "stdout",
          "text": [
            "<class 'pandas.core.frame.DataFrame'>\n",
            "RangeIndex: 10841 entries, 0 to 10840\n",
            "Data columns (total 13 columns):\n",
            " #   Column          Non-Null Count  Dtype  \n",
            "---  ------          --------------  -----  \n",
            " 0   App             10841 non-null  object \n",
            " 1   Category        10841 non-null  object \n",
            " 2   Rating          9367 non-null   float64\n",
            " 3   Reviews         10841 non-null  object \n",
            " 4   Size            10841 non-null  object \n",
            " 5   Installs        10841 non-null  object \n",
            " 6   Type            10840 non-null  object \n",
            " 7   Price           10841 non-null  object \n",
            " 8   Content Rating  10840 non-null  object \n",
            " 9   Genres          10841 non-null  object \n",
            " 10  Last Updated    10841 non-null  object \n",
            " 11  Current Ver     10833 non-null  object \n",
            " 12  Android Ver     10838 non-null  object \n",
            "dtypes: float64(1), object(12)\n",
            "memory usage: 1.1+ MB\n"
          ]
        }
      ]
    },
    {
      "cell_type": "code",
      "source": [
        "# Check the number of missing values and then sum them\n",
        "dataset.isnull().sum()"
      ],
      "metadata": {
        "colab": {
          "base_uri": "https://localhost:8080/"
        },
        "id": "l9rczwRewZYC",
        "outputId": "a3063242-2bca-41b3-87b7-feef22f6fc92"
      },
      "execution_count": null,
      "outputs": [
        {
          "output_type": "execute_result",
          "data": {
            "text/plain": [
              "App                  0\n",
              "Category             0\n",
              "Rating            1474\n",
              "Reviews              0\n",
              "Size                 0\n",
              "Installs             0\n",
              "Type                 1\n",
              "Price                0\n",
              "Content Rating       1\n",
              "Genres               0\n",
              "Last Updated         0\n",
              "Current Ver          8\n",
              "Android Ver          3\n",
              "dtype: int64"
            ]
          },
          "metadata": {},
          "execution_count": 11
        }
      ]
    },
    {
      "cell_type": "code",
      "source": [
        "# Display the shape of dataset\n",
        "dataset.shape"
      ],
      "metadata": {
        "colab": {
          "base_uri": "https://localhost:8080/"
        },
        "id": "2q9tKJYfwfjs",
        "outputId": "e280c575-33f2-47e0-90b1-edb928e5898b"
      },
      "execution_count": null,
      "outputs": [
        {
          "output_type": "execute_result",
          "data": {
            "text/plain": [
              "(10841, 13)"
            ]
          },
          "metadata": {},
          "execution_count": 12
        }
      ]
    },
    {
      "cell_type": "markdown",
      "source": [
        "**Data Preprocessing and Cleaning**"
      ],
      "metadata": {
        "id": "m0uGkSw9wx28"
      }
    },
    {
      "cell_type": "markdown",
      "source": [
        "Rating"
      ],
      "metadata": {
        "id": "XdxyAjb-xmip"
      }
    },
    {
      "cell_type": "code",
      "source": [
        "# Calculate the mean of the 'Rating' column excluding NaN values\n",
        "rating_mean = dataset['Rating'].mean()\n",
        "\n",
        "# Replace NaN values with the mean\n",
        "dataset['Rating'].fillna(rating_mean, inplace=True)\n"
      ],
      "metadata": {
        "id": "xDHmYTbIw6O-"
      },
      "execution_count": null,
      "outputs": []
    },
    {
      "cell_type": "code",
      "source": [
        "# Check for NaN values in the 'Rating' column\n",
        "nan_check_rating = dataset['Rating'].isna().any()\n",
        "print(\"NaN values :\", nan_check_rating)"
      ],
      "metadata": {
        "colab": {
          "base_uri": "https://localhost:8080/"
        },
        "id": "q1vORjMVxx16",
        "outputId": "96f751cb-c181-4235-9639-c5b78f099099"
      },
      "execution_count": null,
      "outputs": [
        {
          "output_type": "stream",
          "name": "stdout",
          "text": [
            "NaN values : False\n"
          ]
        }
      ]
    },
    {
      "cell_type": "code",
      "source": [
        "# Retrive the unique values in 'Rating' column\n",
        "dataset['Rating'].unique()"
      ],
      "metadata": {
        "colab": {
          "base_uri": "https://localhost:8080/"
        },
        "id": "neKJ2ygVyGWB",
        "outputId": "b67b3ff6-ea42-4b45-fccf-702c305b9005"
      },
      "execution_count": null,
      "outputs": [
        {
          "output_type": "execute_result",
          "data": {
            "text/plain": [
              "array([ 4.1       ,  3.9       ,  4.7       ,  4.5       ,  4.3       ,\n",
              "        4.4       ,  3.8       ,  4.2       ,  4.6       ,  3.2       ,\n",
              "        4.        ,  4.19333832,  4.8       ,  4.9       ,  3.6       ,\n",
              "        3.7       ,  3.3       ,  3.4       ,  3.5       ,  3.1       ,\n",
              "        5.        ,  2.6       ,  3.        ,  1.9       ,  2.5       ,\n",
              "        2.8       ,  2.7       ,  1.        ,  2.9       ,  2.3       ,\n",
              "        2.2       ,  1.7       ,  2.        ,  1.8       ,  2.4       ,\n",
              "        1.6       ,  2.1       ,  1.4       ,  1.5       ,  1.2       ,\n",
              "       19.        ])"
            ]
          },
          "metadata": {},
          "execution_count": 16
        }
      ]
    },
    {
      "cell_type": "markdown",
      "source": [
        "Reviews"
      ],
      "metadata": {
        "id": "iJn4ZT7lzL2G"
      }
    },
    {
      "cell_type": "code",
      "source": [
        "# Select and display the row of 'Reviews' columns which value is not numeric\n",
        "dataset[~dataset.Reviews.str.isnumeric()]"
      ],
      "metadata": {
        "colab": {
          "base_uri": "https://localhost:8080/",
          "height": 81
        },
        "id": "IAhba2Q1zOLb",
        "outputId": "98c9095f-61c4-49fa-b07f-83f6f516c912"
      },
      "execution_count": null,
      "outputs": [
        {
          "output_type": "execute_result",
          "data": {
            "text/plain": [
              "                                           App Category  Rating Reviews  \\\n",
              "10472  Life Made WI-Fi Touchscreen Photo Frame      1.9    19.0    3.0M   \n",
              "\n",
              "         Size Installs Type     Price Content Rating     Genres Last Updated  \\\n",
              "10472  1,000+     Free    0  Everyone            NaN  11-Feb-18       1.0.19   \n",
              "\n",
              "      Current Ver Android Ver  \n",
              "10472  4.0 and up         NaN  "
            ],
            "text/html": [
              "\n",
              "  <div id=\"df-dac6df92-1777-447e-bd8e-e2b356ee0188\" class=\"colab-df-container\">\n",
              "    <div>\n",
              "<style scoped>\n",
              "    .dataframe tbody tr th:only-of-type {\n",
              "        vertical-align: middle;\n",
              "    }\n",
              "\n",
              "    .dataframe tbody tr th {\n",
              "        vertical-align: top;\n",
              "    }\n",
              "\n",
              "    .dataframe thead th {\n",
              "        text-align: right;\n",
              "    }\n",
              "</style>\n",
              "<table border=\"1\" class=\"dataframe\">\n",
              "  <thead>\n",
              "    <tr style=\"text-align: right;\">\n",
              "      <th></th>\n",
              "      <th>App</th>\n",
              "      <th>Category</th>\n",
              "      <th>Rating</th>\n",
              "      <th>Reviews</th>\n",
              "      <th>Size</th>\n",
              "      <th>Installs</th>\n",
              "      <th>Type</th>\n",
              "      <th>Price</th>\n",
              "      <th>Content Rating</th>\n",
              "      <th>Genres</th>\n",
              "      <th>Last Updated</th>\n",
              "      <th>Current Ver</th>\n",
              "      <th>Android Ver</th>\n",
              "    </tr>\n",
              "  </thead>\n",
              "  <tbody>\n",
              "    <tr>\n",
              "      <th>10472</th>\n",
              "      <td>Life Made WI-Fi Touchscreen Photo Frame</td>\n",
              "      <td>1.9</td>\n",
              "      <td>19.0</td>\n",
              "      <td>3.0M</td>\n",
              "      <td>1,000+</td>\n",
              "      <td>Free</td>\n",
              "      <td>0</td>\n",
              "      <td>Everyone</td>\n",
              "      <td>NaN</td>\n",
              "      <td>11-Feb-18</td>\n",
              "      <td>1.0.19</td>\n",
              "      <td>4.0 and up</td>\n",
              "      <td>NaN</td>\n",
              "    </tr>\n",
              "  </tbody>\n",
              "</table>\n",
              "</div>\n",
              "    <div class=\"colab-df-buttons\">\n",
              "\n",
              "  <div class=\"colab-df-container\">\n",
              "    <button class=\"colab-df-convert\" onclick=\"convertToInteractive('df-dac6df92-1777-447e-bd8e-e2b356ee0188')\"\n",
              "            title=\"Convert this dataframe to an interactive table.\"\n",
              "            style=\"display:none;\">\n",
              "\n",
              "  <svg xmlns=\"http://www.w3.org/2000/svg\" height=\"24px\" viewBox=\"0 -960 960 960\">\n",
              "    <path d=\"M120-120v-720h720v720H120Zm60-500h600v-160H180v160Zm220 220h160v-160H400v160Zm0 220h160v-160H400v160ZM180-400h160v-160H180v160Zm440 0h160v-160H620v160ZM180-180h160v-160H180v160Zm440 0h160v-160H620v160Z\"/>\n",
              "  </svg>\n",
              "    </button>\n",
              "\n",
              "  <style>\n",
              "    .colab-df-container {\n",
              "      display:flex;\n",
              "      gap: 12px;\n",
              "    }\n",
              "\n",
              "    .colab-df-convert {\n",
              "      background-color: #E8F0FE;\n",
              "      border: none;\n",
              "      border-radius: 50%;\n",
              "      cursor: pointer;\n",
              "      display: none;\n",
              "      fill: #1967D2;\n",
              "      height: 32px;\n",
              "      padding: 0 0 0 0;\n",
              "      width: 32px;\n",
              "    }\n",
              "\n",
              "    .colab-df-convert:hover {\n",
              "      background-color: #E2EBFA;\n",
              "      box-shadow: 0px 1px 2px rgba(60, 64, 67, 0.3), 0px 1px 3px 1px rgba(60, 64, 67, 0.15);\n",
              "      fill: #174EA6;\n",
              "    }\n",
              "\n",
              "    .colab-df-buttons div {\n",
              "      margin-bottom: 4px;\n",
              "    }\n",
              "\n",
              "    [theme=dark] .colab-df-convert {\n",
              "      background-color: #3B4455;\n",
              "      fill: #D2E3FC;\n",
              "    }\n",
              "\n",
              "    [theme=dark] .colab-df-convert:hover {\n",
              "      background-color: #434B5C;\n",
              "      box-shadow: 0px 1px 3px 1px rgba(0, 0, 0, 0.15);\n",
              "      filter: drop-shadow(0px 1px 2px rgba(0, 0, 0, 0.3));\n",
              "      fill: #FFFFFF;\n",
              "    }\n",
              "  </style>\n",
              "\n",
              "    <script>\n",
              "      const buttonEl =\n",
              "        document.querySelector('#df-dac6df92-1777-447e-bd8e-e2b356ee0188 button.colab-df-convert');\n",
              "      buttonEl.style.display =\n",
              "        google.colab.kernel.accessAllowed ? 'block' : 'none';\n",
              "\n",
              "      async function convertToInteractive(key) {\n",
              "        const element = document.querySelector('#df-dac6df92-1777-447e-bd8e-e2b356ee0188');\n",
              "        const dataTable =\n",
              "          await google.colab.kernel.invokeFunction('convertToInteractive',\n",
              "                                                    [key], {});\n",
              "        if (!dataTable) return;\n",
              "\n",
              "        const docLinkHtml = 'Like what you see? Visit the ' +\n",
              "          '<a target=\"_blank\" href=https://colab.research.google.com/notebooks/data_table.ipynb>data table notebook</a>'\n",
              "          + ' to learn more about interactive tables.';\n",
              "        element.innerHTML = '';\n",
              "        dataTable['output_type'] = 'display_data';\n",
              "        await google.colab.output.renderOutput(dataTable, element);\n",
              "        const docLink = document.createElement('div');\n",
              "        docLink.innerHTML = docLinkHtml;\n",
              "        element.appendChild(docLink);\n",
              "      }\n",
              "    </script>\n",
              "  </div>\n",
              "\n",
              "    </div>\n",
              "  </div>\n"
            ]
          },
          "metadata": {},
          "execution_count": 18
        }
      ]
    },
    {
      "cell_type": "code",
      "source": [
        "# Update the value of row index 10472 with 3000000\n",
        "dataset.at[10472, 'Reviews'] = 3000000"
      ],
      "metadata": {
        "id": "-h9ZEfkuzo8v"
      },
      "execution_count": null,
      "outputs": []
    },
    {
      "cell_type": "code",
      "source": [
        "# Extract and print the data of row 10472\n",
        "row_10472 = dataset.iloc[10472]\n",
        "print(row_10472)"
      ],
      "metadata": {
        "colab": {
          "base_uri": "https://localhost:8080/"
        },
        "id": "95Q2f-d7zsJ0",
        "outputId": "2c487843-461d-4a75-c805-1bfbcb0faf58"
      },
      "execution_count": null,
      "outputs": [
        {
          "output_type": "stream",
          "name": "stdout",
          "text": [
            "App               Life Made WI-Fi Touchscreen Photo Frame\n",
            "Category                                              1.9\n",
            "Rating                                               19.0\n",
            "Reviews                                           3000000\n",
            "Size                                               1,000+\n",
            "Installs                                             Free\n",
            "Type                                                    0\n",
            "Price                                            Everyone\n",
            "Content Rating                                        NaN\n",
            "Genres                                          11-Feb-18\n",
            "Last Updated                                       1.0.19\n",
            "Current Ver                                    4.0 and up\n",
            "Android Ver                                           NaN\n",
            "Name: 10472, dtype: object\n"
          ]
        }
      ]
    },
    {
      "cell_type": "code",
      "source": [
        "# Convert the 'Reviews' column in the 'dataset' to integer data type\n",
        "dataset[\"Reviews\"] = dataset[\"Reviews\"].astype(int)"
      ],
      "metadata": {
        "id": "EBpC50vlzuO_"
      },
      "execution_count": null,
      "outputs": []
    },
    {
      "cell_type": "code",
      "source": [
        "# Retrive the info from DataFrame dataset\n",
        "dataset.info()"
      ],
      "metadata": {
        "colab": {
          "base_uri": "https://localhost:8080/"
        },
        "id": "yOp7QXpwzxMl",
        "outputId": "4d5bac49-1429-4536-fd52-15dff2ecdbea"
      },
      "execution_count": null,
      "outputs": [
        {
          "output_type": "stream",
          "name": "stdout",
          "text": [
            "<class 'pandas.core.frame.DataFrame'>\n",
            "RangeIndex: 10841 entries, 0 to 10840\n",
            "Data columns (total 13 columns):\n",
            " #   Column          Non-Null Count  Dtype  \n",
            "---  ------          --------------  -----  \n",
            " 0   App             10841 non-null  object \n",
            " 1   Category        10841 non-null  object \n",
            " 2   Rating          10841 non-null  float64\n",
            " 3   Reviews         10841 non-null  int64  \n",
            " 4   Size            10841 non-null  object \n",
            " 5   Installs        10841 non-null  object \n",
            " 6   Type            10840 non-null  object \n",
            " 7   Price           10841 non-null  object \n",
            " 8   Content Rating  10840 non-null  object \n",
            " 9   Genres          10841 non-null  object \n",
            " 10  Last Updated    10841 non-null  object \n",
            " 11  Current Ver     10833 non-null  object \n",
            " 12  Android Ver     10838 non-null  object \n",
            "dtypes: float64(1), int64(1), object(11)\n",
            "memory usage: 1.1+ MB\n"
          ]
        }
      ]
    },
    {
      "cell_type": "markdown",
      "source": [
        "Size"
      ],
      "metadata": {
        "id": "sxEm2Xy1z0ok"
      }
    },
    {
      "cell_type": "code",
      "source": [
        "# Retrive the unique values in 'Size' column\n",
        "dataset['Size'].unique()"
      ],
      "metadata": {
        "colab": {
          "base_uri": "https://localhost:8080/"
        },
        "id": "486bb_svz6iJ",
        "outputId": "24bb7878-df92-4792-94dd-5e8dd567fb71"
      },
      "execution_count": null,
      "outputs": [
        {
          "output_type": "execute_result",
          "data": {
            "text/plain": [
              "array(['19M', '14M', '8.7M', '25M', '2.8M', '5.6M', '29M', '33M', '3.1M',\n",
              "       '28M', '12M', '20M', '21M', '37M', '2.7M', '5.5M', '17M', '39M',\n",
              "       '31M', '4.2M', '7.0M', '23M', '6.0M', '6.1M', '4.6M', '9.2M',\n",
              "       '5.2M', '11M', '24M', 'Varies with device', '9.4M', '15M', '10M',\n",
              "       '1.2M', '26M', '8.0M', '7.9M', '56M', '57M', '35M', '54M', '201k',\n",
              "       '3.6M', '5.7M', '8.6M', '2.4M', '27M', '2.5M', '16M', '3.4M',\n",
              "       '8.9M', '3.9M', '2.9M', '38M', '32M', '5.4M', '18M', '1.1M',\n",
              "       '2.2M', '4.5M', '9.8M', '52M', '9.0M', '6.7M', '30M', '2.6M',\n",
              "       '7.1M', '3.7M', '22M', '7.4M', '6.4M', '3.2M', '8.2M', '9.9M',\n",
              "       '4.9M', '9.5M', '5.0M', '5.9M', '13M', '73M', '6.8M', '3.5M',\n",
              "       '4.0M', '2.3M', '7.2M', '2.1M', '42M', '7.3M', '9.1M', '55M',\n",
              "       '23k', '6.5M', '1.5M', '7.5M', '51M', '41M', '48M', '8.5M', '46M',\n",
              "       '8.3M', '4.3M', '4.7M', '3.3M', '40M', '7.8M', '8.8M', '6.6M',\n",
              "       '5.1M', '61M', '66M', '79k', '8.4M', '118k', '44M', '695k', '1.6M',\n",
              "       '6.2M', '18k', '53M', '1.4M', '3.0M', '5.8M', '3.8M', '9.6M',\n",
              "       '45M', '63M', '49M', '77M', '4.4M', '4.8M', '70M', '6.9M', '9.3M',\n",
              "       '10.0M', '8.1M', '36M', '84M', '97M', '2.0M', '1.9M', '1.8M',\n",
              "       '5.3M', '47M', '556k', '526k', '76M', '7.6M', '59M', '9.7M', '78M',\n",
              "       '72M', '43M', '7.7M', '6.3M', '334k', '34M', '93M', '65M', '79M',\n",
              "       '100M', '58M', '50M', '68M', '64M', '67M', '60M', '94M', '232k',\n",
              "       '99M', '624k', '95M', '8.5k', '41k', '292k', '11k', '80M', '1.7M',\n",
              "       '74M', '62M', '69M', '75M', '98M', '85M', '82M', '96M', '87M',\n",
              "       '71M', '86M', '91M', '81M', '92M', '83M', '88M', '704k', '862k',\n",
              "       '899k', '378k', '266k', '375k', '1.3M', '975k', '980k', '4.1M',\n",
              "       '89M', '696k', '544k', '525k', '920k', '779k', '853k', '720k',\n",
              "       '713k', '772k', '318k', '58k', '241k', '196k', '857k', '51k',\n",
              "       '953k', '865k', '251k', '930k', '540k', '313k', '746k', '203k',\n",
              "       '26k', '314k', '239k', '371k', '220k', '730k', '756k', '91k',\n",
              "       '293k', '17k', '74k', '14k', '317k', '78k', '924k', '902k', '818k',\n",
              "       '81k', '939k', '169k', '45k', '475k', '965k', '90M', '545k', '61k',\n",
              "       '283k', '655k', '714k', '93k', '872k', '121k', '322k', '1.0M',\n",
              "       '976k', '172k', '238k', '549k', '206k', '954k', '444k', '717k',\n",
              "       '210k', '609k', '308k', '705k', '306k', '904k', '473k', '175k',\n",
              "       '350k', '383k', '454k', '421k', '70k', '812k', '442k', '842k',\n",
              "       '417k', '412k', '459k', '478k', '335k', '782k', '721k', '430k',\n",
              "       '429k', '192k', '200k', '460k', '728k', '496k', '816k', '414k',\n",
              "       '506k', '887k', '613k', '243k', '569k', '778k', '683k', '592k',\n",
              "       '319k', '186k', '840k', '647k', '191k', '373k', '437k', '598k',\n",
              "       '716k', '585k', '982k', '222k', '219k', '55k', '948k', '323k',\n",
              "       '691k', '511k', '951k', '963k', '25k', '554k', '351k', '27k',\n",
              "       '82k', '208k', '913k', '514k', '551k', '29k', '103k', '898k',\n",
              "       '743k', '116k', '153k', '209k', '353k', '499k', '173k', '597k',\n",
              "       '809k', '122k', '411k', '400k', '801k', '787k', '237k', '50k',\n",
              "       '643k', '986k', '97k', '516k', '837k', '780k', '961k', '269k',\n",
              "       '20k', '498k', '600k', '749k', '642k', '881k', '72k', '656k',\n",
              "       '601k', '221k', '228k', '108k', '940k', '176k', '33k', '663k',\n",
              "       '34k', '942k', '259k', '164k', '458k', '245k', '629k', '28k',\n",
              "       '288k', '775k', '785k', '636k', '916k', '994k', '309k', '485k',\n",
              "       '914k', '903k', '608k', '500k', '54k', '562k', '847k', '957k',\n",
              "       '688k', '811k', '270k', '48k', '329k', '523k', '921k', '874k',\n",
              "       '981k', '784k', '280k', '24k', '518k', '754k', '892k', '154k',\n",
              "       '860k', '364k', '387k', '626k', '161k', '879k', '39k', '970k',\n",
              "       '170k', '141k', '160k', '144k', '143k', '190k', '376k', '193k',\n",
              "       '246k', '73k', '658k', '992k', '253k', '420k', '404k', '1,000+',\n",
              "       '470k', '226k', '240k', '89k', '234k', '257k', '861k', '467k',\n",
              "       '157k', '44k', '676k', '67k', '552k', '885k', '1020k', '582k',\n",
              "       '619k'], dtype=object)"
            ]
          },
          "metadata": {},
          "execution_count": 23
        }
      ]
    },
    {
      "cell_type": "code",
      "source": [
        "import pandas as pd\n",
        "import numpy as np\n",
        "\n",
        "# Replace 'M' with '000' and remove 'k', also handle 'Varies with device'\n",
        "dataset['Size'] = dataset['Size'].replace(['Varies with device', '1,000+'], np.nan)\n",
        "dataset['Size'] = dataset['Size'].str.replace('M', '000').str.replace('k', '')\n",
        "\n",
        "# Remove non-numeric characters (except '.')\n",
        "dataset['Size'] = dataset['Size'].replace('[^\\d.]', '', regex=True)\n",
        "\n",
        "# Convert to numeric, errors='coerce' will replace non-convertible values with NaN\n",
        "dataset['Size'] = pd.to_numeric(dataset['Size'], errors='coerce')\n",
        "\n",
        "# Replace NaN with 0 (or any other suitable strategy)\n",
        "dataset['Size'] = dataset['Size'].fillna(0)\n",
        "\n",
        "# Convert to a common unit, for example, megabytes (MB)\n",
        "dataset['Size'] = dataset['Size'] / 1000\n",
        "\n",
        "# Print the cleaned 'Size' column\n",
        "print(dataset['Size'])"
      ],
      "metadata": {
        "colab": {
          "base_uri": "https://localhost:8080/"
        },
        "id": "m2GnhYnM0Zrz",
        "outputId": "998f58bd-e62f-4455-f50a-f67d177dc680"
      },
      "execution_count": null,
      "outputs": [
        {
          "output_type": "stream",
          "name": "stdout",
          "text": [
            "0        19.0000\n",
            "1        14.0000\n",
            "2         0.0087\n",
            "3        25.0000\n",
            "4         0.0028\n",
            "          ...   \n",
            "10836    53.0000\n",
            "10837     0.0036\n",
            "10838     0.0095\n",
            "10839     0.0000\n",
            "10840    19.0000\n",
            "Name: Size, Length: 10841, dtype: float64\n"
          ]
        }
      ]
    },
    {
      "cell_type": "markdown",
      "source": [
        "Installs"
      ],
      "metadata": {
        "id": "m65_lt8E2b4f"
      }
    },
    {
      "cell_type": "code",
      "source": [
        "# Retrive the unique values in 'Installs' column\n",
        "dataset['Installs'].unique()"
      ],
      "metadata": {
        "colab": {
          "base_uri": "https://localhost:8080/"
        },
        "id": "_EAwRhUW2dI6",
        "outputId": "fdeb7eed-5452-4b02-f3ea-c5dd6012b490"
      },
      "execution_count": null,
      "outputs": [
        {
          "output_type": "execute_result",
          "data": {
            "text/plain": [
              "array(['10,000+', '500,000+', '5,000,000+', '50,000,000+', '100,000+',\n",
              "       '50,000+', '1,000,000+', '10,000,000+', '5,000+', '100,000,000+',\n",
              "       '1,000,000,000+', '1,000+', '500,000,000+', '50+', '100+', '500+',\n",
              "       '10+', '1+', '5+', '0+', '0', 'Free'], dtype=object)"
            ]
          },
          "metadata": {},
          "execution_count": 26
        }
      ]
    },
    {
      "cell_type": "code",
      "source": [
        "# Remove specified characters ('+' and ',') from the values in the 'Installs' column of the 'dataset'\n",
        "additinal_item = ['+' , ',' ]\n",
        "target_cols = ['Installs' ]\n",
        "for item in additinal_item:\n",
        "    for col in target_cols:\n",
        "        dataset[col] = dataset[col].str.replace(item,'')\n",
        "\n",
        "\n",
        "# Display the first few rows of the updated 'dataset'\n",
        "dataset.head()"
      ],
      "metadata": {
        "colab": {
          "base_uri": "https://localhost:8080/",
          "height": 261
        },
        "id": "d9qn_CS42pvL",
        "outputId": "f3cc290a-8ed9-4bf7-9157-98877470e48d"
      },
      "execution_count": null,
      "outputs": [
        {
          "output_type": "stream",
          "name": "stderr",
          "text": [
            "<ipython-input-27-950fe96b1516>:6: FutureWarning: The default value of regex will change from True to False in a future version. In addition, single character regular expressions will *not* be treated as literal strings when regex=True.\n",
            "  dataset[col] = dataset[col].str.replace(item,'')\n"
          ]
        },
        {
          "output_type": "execute_result",
          "data": {
            "text/plain": [
              "                                                 App        Category  Rating  \\\n",
              "0     Photo Editor & Candy Camera & Grid & ScrapBook  ART_AND_DESIGN     4.1   \n",
              "1                                Coloring book moana  ART_AND_DESIGN     3.9   \n",
              "2  U Launcher Lite – FREE Live Cool Themes, Hide ...  ART_AND_DESIGN     4.7   \n",
              "3                              Sketch - Draw & Paint  ART_AND_DESIGN     4.5   \n",
              "4              Pixel Draw - Number Art Coloring Book  ART_AND_DESIGN     4.3   \n",
              "\n",
              "   Reviews     Size  Installs  Type Price Content Rating  \\\n",
              "0      159  19.0000     10000  Free     0       Everyone   \n",
              "1      967  14.0000    500000  Free     0       Everyone   \n",
              "2    87510   0.0087   5000000  Free     0       Everyone   \n",
              "3   215644  25.0000  50000000  Free     0           Teen   \n",
              "4      967   0.0028    100000  Free     0       Everyone   \n",
              "\n",
              "                      Genres Last Updated         Current Ver   Android Ver  \n",
              "0               Art & Design     7-Jan-18               1.0.0  4.0.3 and up  \n",
              "1  Art & Design;Pretend Play    15-Jan-18               2.0.0  4.0.3 and up  \n",
              "2               Art & Design     1-Aug-18               1.2.4  4.0.3 and up  \n",
              "3               Art & Design     8-Jun-18  Varies with device    4.2 and up  \n",
              "4    Art & Design;Creativity    20-Jun-18                 1.1    4.4 and up  "
            ],
            "text/html": [
              "\n",
              "  <div id=\"df-a2296dca-5890-417e-bf5c-31463cff996b\" class=\"colab-df-container\">\n",
              "    <div>\n",
              "<style scoped>\n",
              "    .dataframe tbody tr th:only-of-type {\n",
              "        vertical-align: middle;\n",
              "    }\n",
              "\n",
              "    .dataframe tbody tr th {\n",
              "        vertical-align: top;\n",
              "    }\n",
              "\n",
              "    .dataframe thead th {\n",
              "        text-align: right;\n",
              "    }\n",
              "</style>\n",
              "<table border=\"1\" class=\"dataframe\">\n",
              "  <thead>\n",
              "    <tr style=\"text-align: right;\">\n",
              "      <th></th>\n",
              "      <th>App</th>\n",
              "      <th>Category</th>\n",
              "      <th>Rating</th>\n",
              "      <th>Reviews</th>\n",
              "      <th>Size</th>\n",
              "      <th>Installs</th>\n",
              "      <th>Type</th>\n",
              "      <th>Price</th>\n",
              "      <th>Content Rating</th>\n",
              "      <th>Genres</th>\n",
              "      <th>Last Updated</th>\n",
              "      <th>Current Ver</th>\n",
              "      <th>Android Ver</th>\n",
              "    </tr>\n",
              "  </thead>\n",
              "  <tbody>\n",
              "    <tr>\n",
              "      <th>0</th>\n",
              "      <td>Photo Editor &amp; Candy Camera &amp; Grid &amp; ScrapBook</td>\n",
              "      <td>ART_AND_DESIGN</td>\n",
              "      <td>4.1</td>\n",
              "      <td>159</td>\n",
              "      <td>19.0000</td>\n",
              "      <td>10000</td>\n",
              "      <td>Free</td>\n",
              "      <td>0</td>\n",
              "      <td>Everyone</td>\n",
              "      <td>Art &amp; Design</td>\n",
              "      <td>7-Jan-18</td>\n",
              "      <td>1.0.0</td>\n",
              "      <td>4.0.3 and up</td>\n",
              "    </tr>\n",
              "    <tr>\n",
              "      <th>1</th>\n",
              "      <td>Coloring book moana</td>\n",
              "      <td>ART_AND_DESIGN</td>\n",
              "      <td>3.9</td>\n",
              "      <td>967</td>\n",
              "      <td>14.0000</td>\n",
              "      <td>500000</td>\n",
              "      <td>Free</td>\n",
              "      <td>0</td>\n",
              "      <td>Everyone</td>\n",
              "      <td>Art &amp; Design;Pretend Play</td>\n",
              "      <td>15-Jan-18</td>\n",
              "      <td>2.0.0</td>\n",
              "      <td>4.0.3 and up</td>\n",
              "    </tr>\n",
              "    <tr>\n",
              "      <th>2</th>\n",
              "      <td>U Launcher Lite – FREE Live Cool Themes, Hide ...</td>\n",
              "      <td>ART_AND_DESIGN</td>\n",
              "      <td>4.7</td>\n",
              "      <td>87510</td>\n",
              "      <td>0.0087</td>\n",
              "      <td>5000000</td>\n",
              "      <td>Free</td>\n",
              "      <td>0</td>\n",
              "      <td>Everyone</td>\n",
              "      <td>Art &amp; Design</td>\n",
              "      <td>1-Aug-18</td>\n",
              "      <td>1.2.4</td>\n",
              "      <td>4.0.3 and up</td>\n",
              "    </tr>\n",
              "    <tr>\n",
              "      <th>3</th>\n",
              "      <td>Sketch - Draw &amp; Paint</td>\n",
              "      <td>ART_AND_DESIGN</td>\n",
              "      <td>4.5</td>\n",
              "      <td>215644</td>\n",
              "      <td>25.0000</td>\n",
              "      <td>50000000</td>\n",
              "      <td>Free</td>\n",
              "      <td>0</td>\n",
              "      <td>Teen</td>\n",
              "      <td>Art &amp; Design</td>\n",
              "      <td>8-Jun-18</td>\n",
              "      <td>Varies with device</td>\n",
              "      <td>4.2 and up</td>\n",
              "    </tr>\n",
              "    <tr>\n",
              "      <th>4</th>\n",
              "      <td>Pixel Draw - Number Art Coloring Book</td>\n",
              "      <td>ART_AND_DESIGN</td>\n",
              "      <td>4.3</td>\n",
              "      <td>967</td>\n",
              "      <td>0.0028</td>\n",
              "      <td>100000</td>\n",
              "      <td>Free</td>\n",
              "      <td>0</td>\n",
              "      <td>Everyone</td>\n",
              "      <td>Art &amp; Design;Creativity</td>\n",
              "      <td>20-Jun-18</td>\n",
              "      <td>1.1</td>\n",
              "      <td>4.4 and up</td>\n",
              "    </tr>\n",
              "  </tbody>\n",
              "</table>\n",
              "</div>\n",
              "    <div class=\"colab-df-buttons\">\n",
              "\n",
              "  <div class=\"colab-df-container\">\n",
              "    <button class=\"colab-df-convert\" onclick=\"convertToInteractive('df-a2296dca-5890-417e-bf5c-31463cff996b')\"\n",
              "            title=\"Convert this dataframe to an interactive table.\"\n",
              "            style=\"display:none;\">\n",
              "\n",
              "  <svg xmlns=\"http://www.w3.org/2000/svg\" height=\"24px\" viewBox=\"0 -960 960 960\">\n",
              "    <path d=\"M120-120v-720h720v720H120Zm60-500h600v-160H180v160Zm220 220h160v-160H400v160Zm0 220h160v-160H400v160ZM180-400h160v-160H180v160Zm440 0h160v-160H620v160ZM180-180h160v-160H180v160Zm440 0h160v-160H620v160Z\"/>\n",
              "  </svg>\n",
              "    </button>\n",
              "\n",
              "  <style>\n",
              "    .colab-df-container {\n",
              "      display:flex;\n",
              "      gap: 12px;\n",
              "    }\n",
              "\n",
              "    .colab-df-convert {\n",
              "      background-color: #E8F0FE;\n",
              "      border: none;\n",
              "      border-radius: 50%;\n",
              "      cursor: pointer;\n",
              "      display: none;\n",
              "      fill: #1967D2;\n",
              "      height: 32px;\n",
              "      padding: 0 0 0 0;\n",
              "      width: 32px;\n",
              "    }\n",
              "\n",
              "    .colab-df-convert:hover {\n",
              "      background-color: #E2EBFA;\n",
              "      box-shadow: 0px 1px 2px rgba(60, 64, 67, 0.3), 0px 1px 3px 1px rgba(60, 64, 67, 0.15);\n",
              "      fill: #174EA6;\n",
              "    }\n",
              "\n",
              "    .colab-df-buttons div {\n",
              "      margin-bottom: 4px;\n",
              "    }\n",
              "\n",
              "    [theme=dark] .colab-df-convert {\n",
              "      background-color: #3B4455;\n",
              "      fill: #D2E3FC;\n",
              "    }\n",
              "\n",
              "    [theme=dark] .colab-df-convert:hover {\n",
              "      background-color: #434B5C;\n",
              "      box-shadow: 0px 1px 3px 1px rgba(0, 0, 0, 0.15);\n",
              "      filter: drop-shadow(0px 1px 2px rgba(0, 0, 0, 0.3));\n",
              "      fill: #FFFFFF;\n",
              "    }\n",
              "  </style>\n",
              "\n",
              "    <script>\n",
              "      const buttonEl =\n",
              "        document.querySelector('#df-a2296dca-5890-417e-bf5c-31463cff996b button.colab-df-convert');\n",
              "      buttonEl.style.display =\n",
              "        google.colab.kernel.accessAllowed ? 'block' : 'none';\n",
              "\n",
              "      async function convertToInteractive(key) {\n",
              "        const element = document.querySelector('#df-a2296dca-5890-417e-bf5c-31463cff996b');\n",
              "        const dataTable =\n",
              "          await google.colab.kernel.invokeFunction('convertToInteractive',\n",
              "                                                    [key], {});\n",
              "        if (!dataTable) return;\n",
              "\n",
              "        const docLinkHtml = 'Like what you see? Visit the ' +\n",
              "          '<a target=\"_blank\" href=https://colab.research.google.com/notebooks/data_table.ipynb>data table notebook</a>'\n",
              "          + ' to learn more about interactive tables.';\n",
              "        element.innerHTML = '';\n",
              "        dataTable['output_type'] = 'display_data';\n",
              "        await google.colab.output.renderOutput(dataTable, element);\n",
              "        const docLink = document.createElement('div');\n",
              "        docLink.innerHTML = docLinkHtml;\n",
              "        element.appendChild(docLink);\n",
              "      }\n",
              "    </script>\n",
              "  </div>\n",
              "\n",
              "\n",
              "<div id=\"df-510ed297-215e-4e50-9ef6-93ce994fb6ba\">\n",
              "  <button class=\"colab-df-quickchart\" onclick=\"quickchart('df-510ed297-215e-4e50-9ef6-93ce994fb6ba')\"\n",
              "            title=\"Suggest charts\"\n",
              "            style=\"display:none;\">\n",
              "\n",
              "<svg xmlns=\"http://www.w3.org/2000/svg\" height=\"24px\"viewBox=\"0 0 24 24\"\n",
              "     width=\"24px\">\n",
              "    <g>\n",
              "        <path d=\"M19 3H5c-1.1 0-2 .9-2 2v14c0 1.1.9 2 2 2h14c1.1 0 2-.9 2-2V5c0-1.1-.9-2-2-2zM9 17H7v-7h2v7zm4 0h-2V7h2v10zm4 0h-2v-4h2v4z\"/>\n",
              "    </g>\n",
              "</svg>\n",
              "  </button>\n",
              "\n",
              "<style>\n",
              "  .colab-df-quickchart {\n",
              "      --bg-color: #E8F0FE;\n",
              "      --fill-color: #1967D2;\n",
              "      --hover-bg-color: #E2EBFA;\n",
              "      --hover-fill-color: #174EA6;\n",
              "      --disabled-fill-color: #AAA;\n",
              "      --disabled-bg-color: #DDD;\n",
              "  }\n",
              "\n",
              "  [theme=dark] .colab-df-quickchart {\n",
              "      --bg-color: #3B4455;\n",
              "      --fill-color: #D2E3FC;\n",
              "      --hover-bg-color: #434B5C;\n",
              "      --hover-fill-color: #FFFFFF;\n",
              "      --disabled-bg-color: #3B4455;\n",
              "      --disabled-fill-color: #666;\n",
              "  }\n",
              "\n",
              "  .colab-df-quickchart {\n",
              "    background-color: var(--bg-color);\n",
              "    border: none;\n",
              "    border-radius: 50%;\n",
              "    cursor: pointer;\n",
              "    display: none;\n",
              "    fill: var(--fill-color);\n",
              "    height: 32px;\n",
              "    padding: 0;\n",
              "    width: 32px;\n",
              "  }\n",
              "\n",
              "  .colab-df-quickchart:hover {\n",
              "    background-color: var(--hover-bg-color);\n",
              "    box-shadow: 0 1px 2px rgba(60, 64, 67, 0.3), 0 1px 3px 1px rgba(60, 64, 67, 0.15);\n",
              "    fill: var(--button-hover-fill-color);\n",
              "  }\n",
              "\n",
              "  .colab-df-quickchart-complete:disabled,\n",
              "  .colab-df-quickchart-complete:disabled:hover {\n",
              "    background-color: var(--disabled-bg-color);\n",
              "    fill: var(--disabled-fill-color);\n",
              "    box-shadow: none;\n",
              "  }\n",
              "\n",
              "  .colab-df-spinner {\n",
              "    border: 2px solid var(--fill-color);\n",
              "    border-color: transparent;\n",
              "    border-bottom-color: var(--fill-color);\n",
              "    animation:\n",
              "      spin 1s steps(1) infinite;\n",
              "  }\n",
              "\n",
              "  @keyframes spin {\n",
              "    0% {\n",
              "      border-color: transparent;\n",
              "      border-bottom-color: var(--fill-color);\n",
              "      border-left-color: var(--fill-color);\n",
              "    }\n",
              "    20% {\n",
              "      border-color: transparent;\n",
              "      border-left-color: var(--fill-color);\n",
              "      border-top-color: var(--fill-color);\n",
              "    }\n",
              "    30% {\n",
              "      border-color: transparent;\n",
              "      border-left-color: var(--fill-color);\n",
              "      border-top-color: var(--fill-color);\n",
              "      border-right-color: var(--fill-color);\n",
              "    }\n",
              "    40% {\n",
              "      border-color: transparent;\n",
              "      border-right-color: var(--fill-color);\n",
              "      border-top-color: var(--fill-color);\n",
              "    }\n",
              "    60% {\n",
              "      border-color: transparent;\n",
              "      border-right-color: var(--fill-color);\n",
              "    }\n",
              "    80% {\n",
              "      border-color: transparent;\n",
              "      border-right-color: var(--fill-color);\n",
              "      border-bottom-color: var(--fill-color);\n",
              "    }\n",
              "    90% {\n",
              "      border-color: transparent;\n",
              "      border-bottom-color: var(--fill-color);\n",
              "    }\n",
              "  }\n",
              "</style>\n",
              "\n",
              "  <script>\n",
              "    async function quickchart(key) {\n",
              "      const quickchartButtonEl =\n",
              "        document.querySelector('#' + key + ' button');\n",
              "      quickchartButtonEl.disabled = true;  // To prevent multiple clicks.\n",
              "      quickchartButtonEl.classList.add('colab-df-spinner');\n",
              "      try {\n",
              "        const charts = await google.colab.kernel.invokeFunction(\n",
              "            'suggestCharts', [key], {});\n",
              "      } catch (error) {\n",
              "        console.error('Error during call to suggestCharts:', error);\n",
              "      }\n",
              "      quickchartButtonEl.classList.remove('colab-df-spinner');\n",
              "      quickchartButtonEl.classList.add('colab-df-quickchart-complete');\n",
              "    }\n",
              "    (() => {\n",
              "      let quickchartButtonEl =\n",
              "        document.querySelector('#df-510ed297-215e-4e50-9ef6-93ce994fb6ba button');\n",
              "      quickchartButtonEl.style.display =\n",
              "        google.colab.kernel.accessAllowed ? 'block' : 'none';\n",
              "    })();\n",
              "  </script>\n",
              "</div>\n",
              "    </div>\n",
              "  </div>\n"
            ]
          },
          "metadata": {},
          "execution_count": 27
        }
      ]
    },
    {
      "cell_type": "code",
      "source": [
        "# Select the row which isnot numeric\n",
        "dataset[~dataset.Installs.str.isnumeric()]"
      ],
      "metadata": {
        "colab": {
          "base_uri": "https://localhost:8080/",
          "height": 81
        },
        "id": "sAjecSrb27Za",
        "outputId": "5db66b1a-a3d1-41ef-9584-25a42ec674c1"
      },
      "execution_count": null,
      "outputs": [
        {
          "output_type": "execute_result",
          "data": {
            "text/plain": [
              "                                           App Category  Rating  Reviews  \\\n",
              "10472  Life Made WI-Fi Touchscreen Photo Frame      1.9    19.0  3000000   \n",
              "\n",
              "       Size Installs Type     Price Content Rating     Genres Last Updated  \\\n",
              "10472   0.0     Free    0  Everyone            NaN  11-Feb-18       1.0.19   \n",
              "\n",
              "      Current Ver Android Ver  \n",
              "10472  4.0 and up         NaN  "
            ],
            "text/html": [
              "\n",
              "  <div id=\"df-45b5423c-9c76-4c1a-8d67-29a3aae1c27f\" class=\"colab-df-container\">\n",
              "    <div>\n",
              "<style scoped>\n",
              "    .dataframe tbody tr th:only-of-type {\n",
              "        vertical-align: middle;\n",
              "    }\n",
              "\n",
              "    .dataframe tbody tr th {\n",
              "        vertical-align: top;\n",
              "    }\n",
              "\n",
              "    .dataframe thead th {\n",
              "        text-align: right;\n",
              "    }\n",
              "</style>\n",
              "<table border=\"1\" class=\"dataframe\">\n",
              "  <thead>\n",
              "    <tr style=\"text-align: right;\">\n",
              "      <th></th>\n",
              "      <th>App</th>\n",
              "      <th>Category</th>\n",
              "      <th>Rating</th>\n",
              "      <th>Reviews</th>\n",
              "      <th>Size</th>\n",
              "      <th>Installs</th>\n",
              "      <th>Type</th>\n",
              "      <th>Price</th>\n",
              "      <th>Content Rating</th>\n",
              "      <th>Genres</th>\n",
              "      <th>Last Updated</th>\n",
              "      <th>Current Ver</th>\n",
              "      <th>Android Ver</th>\n",
              "    </tr>\n",
              "  </thead>\n",
              "  <tbody>\n",
              "    <tr>\n",
              "      <th>10472</th>\n",
              "      <td>Life Made WI-Fi Touchscreen Photo Frame</td>\n",
              "      <td>1.9</td>\n",
              "      <td>19.0</td>\n",
              "      <td>3000000</td>\n",
              "      <td>0.0</td>\n",
              "      <td>Free</td>\n",
              "      <td>0</td>\n",
              "      <td>Everyone</td>\n",
              "      <td>NaN</td>\n",
              "      <td>11-Feb-18</td>\n",
              "      <td>1.0.19</td>\n",
              "      <td>4.0 and up</td>\n",
              "      <td>NaN</td>\n",
              "    </tr>\n",
              "  </tbody>\n",
              "</table>\n",
              "</div>\n",
              "    <div class=\"colab-df-buttons\">\n",
              "\n",
              "  <div class=\"colab-df-container\">\n",
              "    <button class=\"colab-df-convert\" onclick=\"convertToInteractive('df-45b5423c-9c76-4c1a-8d67-29a3aae1c27f')\"\n",
              "            title=\"Convert this dataframe to an interactive table.\"\n",
              "            style=\"display:none;\">\n",
              "\n",
              "  <svg xmlns=\"http://www.w3.org/2000/svg\" height=\"24px\" viewBox=\"0 -960 960 960\">\n",
              "    <path d=\"M120-120v-720h720v720H120Zm60-500h600v-160H180v160Zm220 220h160v-160H400v160Zm0 220h160v-160H400v160ZM180-400h160v-160H180v160Zm440 0h160v-160H620v160ZM180-180h160v-160H180v160Zm440 0h160v-160H620v160Z\"/>\n",
              "  </svg>\n",
              "    </button>\n",
              "\n",
              "  <style>\n",
              "    .colab-df-container {\n",
              "      display:flex;\n",
              "      gap: 12px;\n",
              "    }\n",
              "\n",
              "    .colab-df-convert {\n",
              "      background-color: #E8F0FE;\n",
              "      border: none;\n",
              "      border-radius: 50%;\n",
              "      cursor: pointer;\n",
              "      display: none;\n",
              "      fill: #1967D2;\n",
              "      height: 32px;\n",
              "      padding: 0 0 0 0;\n",
              "      width: 32px;\n",
              "    }\n",
              "\n",
              "    .colab-df-convert:hover {\n",
              "      background-color: #E2EBFA;\n",
              "      box-shadow: 0px 1px 2px rgba(60, 64, 67, 0.3), 0px 1px 3px 1px rgba(60, 64, 67, 0.15);\n",
              "      fill: #174EA6;\n",
              "    }\n",
              "\n",
              "    .colab-df-buttons div {\n",
              "      margin-bottom: 4px;\n",
              "    }\n",
              "\n",
              "    [theme=dark] .colab-df-convert {\n",
              "      background-color: #3B4455;\n",
              "      fill: #D2E3FC;\n",
              "    }\n",
              "\n",
              "    [theme=dark] .colab-df-convert:hover {\n",
              "      background-color: #434B5C;\n",
              "      box-shadow: 0px 1px 3px 1px rgba(0, 0, 0, 0.15);\n",
              "      filter: drop-shadow(0px 1px 2px rgba(0, 0, 0, 0.3));\n",
              "      fill: #FFFFFF;\n",
              "    }\n",
              "  </style>\n",
              "\n",
              "    <script>\n",
              "      const buttonEl =\n",
              "        document.querySelector('#df-45b5423c-9c76-4c1a-8d67-29a3aae1c27f button.colab-df-convert');\n",
              "      buttonEl.style.display =\n",
              "        google.colab.kernel.accessAllowed ? 'block' : 'none';\n",
              "\n",
              "      async function convertToInteractive(key) {\n",
              "        const element = document.querySelector('#df-45b5423c-9c76-4c1a-8d67-29a3aae1c27f');\n",
              "        const dataTable =\n",
              "          await google.colab.kernel.invokeFunction('convertToInteractive',\n",
              "                                                    [key], {});\n",
              "        if (!dataTable) return;\n",
              "\n",
              "        const docLinkHtml = 'Like what you see? Visit the ' +\n",
              "          '<a target=\"_blank\" href=https://colab.research.google.com/notebooks/data_table.ipynb>data table notebook</a>'\n",
              "          + ' to learn more about interactive tables.';\n",
              "        element.innerHTML = '';\n",
              "        dataTable['output_type'] = 'display_data';\n",
              "        await google.colab.output.renderOutput(dataTable, element);\n",
              "        const docLink = document.createElement('div');\n",
              "        docLink.innerHTML = docLinkHtml;\n",
              "        element.appendChild(docLink);\n",
              "      }\n",
              "    </script>\n",
              "  </div>\n",
              "\n",
              "    </div>\n",
              "  </div>\n"
            ]
          },
          "metadata": {},
          "execution_count": 19
        }
      ]
    },
    {
      "cell_type": "code",
      "source": [
        "# Drop the column of index 10472\n",
        "dataset = dataset.drop(10472)"
      ],
      "metadata": {
        "id": "mfPu7C9t2-7P"
      },
      "execution_count": null,
      "outputs": []
    },
    {
      "cell_type": "code",
      "source": [
        "# Convert the 'Installs' column to numeric\n",
        "dataset['Installs'] = pd.to_numeric(dataset['Installs'], errors='coerce')\n",
        "\n",
        "# Drop rows with NaN values in the 'Installs' column\n",
        "dataset = dataset.dropna(subset=['Installs'])\n",
        "\n",
        "# Convert 'Installs' column to integer\n",
        "dataset['Installs'] = dataset['Installs'].astype(int)"
      ],
      "metadata": {
        "id": "4n4Tj6Kalthy"
      },
      "execution_count": null,
      "outputs": []
    },
    {
      "cell_type": "code",
      "source": [
        "# Retrive the info from DataFrame dataset\n",
        "dataset.info()"
      ],
      "metadata": {
        "colab": {
          "base_uri": "https://localhost:8080/"
        },
        "id": "PsdEFWd1l16s",
        "outputId": "da45adfc-37cc-4709-e2eb-29875f47023e"
      },
      "execution_count": null,
      "outputs": [
        {
          "output_type": "stream",
          "name": "stdout",
          "text": [
            "<class 'pandas.core.frame.DataFrame'>\n",
            "Int64Index: 10840 entries, 0 to 10840\n",
            "Data columns (total 13 columns):\n",
            " #   Column          Non-Null Count  Dtype  \n",
            "---  ------          --------------  -----  \n",
            " 0   App             10840 non-null  object \n",
            " 1   Category        10840 non-null  object \n",
            " 2   Rating          10840 non-null  float64\n",
            " 3   Reviews         10840 non-null  int64  \n",
            " 4   Size            10840 non-null  float64\n",
            " 5   Installs        10840 non-null  int64  \n",
            " 6   Type            10839 non-null  object \n",
            " 7   Price           10840 non-null  object \n",
            " 8   Content Rating  10840 non-null  object \n",
            " 9   Genres          10840 non-null  object \n",
            " 10  Last Updated    10840 non-null  object \n",
            " 11  Current Ver     10832 non-null  object \n",
            " 12  Android Ver     10838 non-null  object \n",
            "dtypes: float64(2), int64(2), object(9)\n",
            "memory usage: 1.2+ MB\n"
          ]
        }
      ]
    },
    {
      "cell_type": "markdown",
      "source": [
        "Price"
      ],
      "metadata": {
        "id": "8ULWxPxV3A_6"
      }
    },
    {
      "cell_type": "code",
      "source": [
        "# Retrieve unique values of 'Price' column\n",
        "dataset['Price'].unique()"
      ],
      "metadata": {
        "colab": {
          "base_uri": "https://localhost:8080/"
        },
        "id": "r0PNi4cy3DLe",
        "outputId": "84b841b6-6720-4b9b-ce90-a52d36cc9cf8"
      },
      "execution_count": null,
      "outputs": [
        {
          "output_type": "execute_result",
          "data": {
            "text/plain": [
              "array(['0', '$4.99 ', '$3.99 ', '$6.99 ', '$1.49 ', '$2.99 ', '$7.99 ',\n",
              "       '$5.99 ', '$3.49 ', '$1.99 ', '$9.99 ', '$7.49 ', '$0.99 ',\n",
              "       '$9.00 ', '$5.49 ', '$10.00 ', '$24.99 ', '$11.99 ', '$79.99 ',\n",
              "       '$16.99 ', '$14.99 ', '$1.00 ', '$29.99 ', '$12.99 ', '$2.49 ',\n",
              "       '$10.99 ', '$1.50 ', '$19.99 ', '$15.99 ', '$33.99 ', '$74.99 ',\n",
              "       '$39.99 ', '$3.95 ', '$4.49 ', '$1.70 ', '$8.99 ', '$2.00 ',\n",
              "       '$3.88 ', '$25.99 ', '$399.99 ', '$17.99 ', '$400.00 ', '$3.02 ',\n",
              "       '$1.76 ', '$4.84 ', '$4.77 ', '$1.61 ', '$2.50 ', '$1.59 ',\n",
              "       '$6.49 ', '$1.29 ', '$5.00 ', '$13.99 ', '$299.99 ', '$379.99 ',\n",
              "       '$37.99 ', '$18.99 ', '$389.99 ', '$19.90 ', '$8.49 ', '$1.75 ',\n",
              "       '$14.00 ', '$4.85 ', '$46.99 ', '$109.99 ', '$154.99 ', '$3.08 ',\n",
              "       '$2.59 ', '$4.80 ', '$1.96 ', '$19.40 ', '$3.90 ', '$4.59 ',\n",
              "       '$15.46 ', '$3.04 ', '$4.29 ', '$2.60 ', '$3.28 ', '$4.60 ',\n",
              "       '$28.99 ', '$2.95 ', '$2.90 ', '$1.97 ', '$200.00 ', '$89.99 ',\n",
              "       '$2.56 ', '$30.99 ', '$3.61 ', '$394.99 ', '$1.26 ', '$1.20 ',\n",
              "       '$1.04 '], dtype=object)"
            ]
          },
          "metadata": {},
          "execution_count": 31
        }
      ]
    },
    {
      "cell_type": "code",
      "source": [
        "# Remove $ from tha values in 'Price' column\n",
        "additinal_item = ['$']\n",
        "target_cols = ['Price']\n",
        "for item in additinal_item:\n",
        "    for col in target_cols:\n",
        "        dataset[col] = dataset[col].str.replace(item,'')\n",
        "\n",
        "# Display a random sample of 5 rows\n",
        "dataset.sample(5)"
      ],
      "metadata": {
        "colab": {
          "base_uri": "https://localhost:8080/",
          "height": 261
        },
        "id": "q7wqO_g43HxK",
        "outputId": "3de9a8b3-f242-4a86-ff4f-897268397b8a"
      },
      "execution_count": null,
      "outputs": [
        {
          "output_type": "stream",
          "name": "stderr",
          "text": [
            "<ipython-input-32-a89c34a0282b>:6: FutureWarning: The default value of regex will change from True to False in a future version. In addition, single character regular expressions will *not* be treated as literal strings when regex=True.\n",
            "  dataset[col] = dataset[col].str.replace(item,'')\n"
          ]
        },
        {
          "output_type": "execute_result",
          "data": {
            "text/plain": [
              "                                                   App           Category  \\\n",
              "3971       UC Browser - Fast Download Private & Secure      COMMUNICATION   \n",
              "3347                             AppLock - Fingerprint              TOOLS   \n",
              "68                                              REPUVE  AUTO_AND_VEHICLES   \n",
              "2059             Strawberry Shortcake Ice Cream Island             FAMILY   \n",
              "9742  Foot Surgery Hospital Simulator: ER Doctor Games             FAMILY   \n",
              "\n",
              "      Rating   Reviews     Size   Installs  Type Price Content Rating  \\\n",
              "3971     4.5  17712922  40.0000  500000000  Free     0           Teen   \n",
              "3347     4.4    745245   0.0035   10000000  Free     0       Everyone   \n",
              "68       3.9       356   0.0000     100000  Free     0       Everyone   \n",
              "2059     4.2     32029  15.0000    5000000  Free     0       Everyone   \n",
              "9742     3.9       314  28.0000     100000  Free     0       Everyone   \n",
              "\n",
              "                   Genres Last Updated         Current Ver         Android Ver  \n",
              "3971        Communication     2-Aug-18         12.8.5.1121          4.0 and up  \n",
              "3347                Tools    13-Apr-18               7.2.0          2.3 and up  \n",
              "68        Auto & Vehicles    25-May-18  Varies with device  Varies with device  \n",
              "2059  Casual;Pretend Play     6-Nov-17                 1.2          4.1 and up  \n",
              "9742               Casual    15-Jan-18                 1.1          5.1 and up  "
            ],
            "text/html": [
              "\n",
              "  <div id=\"df-180c76b2-87ba-4146-adb5-468448a077e3\" class=\"colab-df-container\">\n",
              "    <div>\n",
              "<style scoped>\n",
              "    .dataframe tbody tr th:only-of-type {\n",
              "        vertical-align: middle;\n",
              "    }\n",
              "\n",
              "    .dataframe tbody tr th {\n",
              "        vertical-align: top;\n",
              "    }\n",
              "\n",
              "    .dataframe thead th {\n",
              "        text-align: right;\n",
              "    }\n",
              "</style>\n",
              "<table border=\"1\" class=\"dataframe\">\n",
              "  <thead>\n",
              "    <tr style=\"text-align: right;\">\n",
              "      <th></th>\n",
              "      <th>App</th>\n",
              "      <th>Category</th>\n",
              "      <th>Rating</th>\n",
              "      <th>Reviews</th>\n",
              "      <th>Size</th>\n",
              "      <th>Installs</th>\n",
              "      <th>Type</th>\n",
              "      <th>Price</th>\n",
              "      <th>Content Rating</th>\n",
              "      <th>Genres</th>\n",
              "      <th>Last Updated</th>\n",
              "      <th>Current Ver</th>\n",
              "      <th>Android Ver</th>\n",
              "    </tr>\n",
              "  </thead>\n",
              "  <tbody>\n",
              "    <tr>\n",
              "      <th>3971</th>\n",
              "      <td>UC Browser - Fast Download Private &amp; Secure</td>\n",
              "      <td>COMMUNICATION</td>\n",
              "      <td>4.5</td>\n",
              "      <td>17712922</td>\n",
              "      <td>40.0000</td>\n",
              "      <td>500000000</td>\n",
              "      <td>Free</td>\n",
              "      <td>0</td>\n",
              "      <td>Teen</td>\n",
              "      <td>Communication</td>\n",
              "      <td>2-Aug-18</td>\n",
              "      <td>12.8.5.1121</td>\n",
              "      <td>4.0 and up</td>\n",
              "    </tr>\n",
              "    <tr>\n",
              "      <th>3347</th>\n",
              "      <td>AppLock - Fingerprint</td>\n",
              "      <td>TOOLS</td>\n",
              "      <td>4.4</td>\n",
              "      <td>745245</td>\n",
              "      <td>0.0035</td>\n",
              "      <td>10000000</td>\n",
              "      <td>Free</td>\n",
              "      <td>0</td>\n",
              "      <td>Everyone</td>\n",
              "      <td>Tools</td>\n",
              "      <td>13-Apr-18</td>\n",
              "      <td>7.2.0</td>\n",
              "      <td>2.3 and up</td>\n",
              "    </tr>\n",
              "    <tr>\n",
              "      <th>68</th>\n",
              "      <td>REPUVE</td>\n",
              "      <td>AUTO_AND_VEHICLES</td>\n",
              "      <td>3.9</td>\n",
              "      <td>356</td>\n",
              "      <td>0.0000</td>\n",
              "      <td>100000</td>\n",
              "      <td>Free</td>\n",
              "      <td>0</td>\n",
              "      <td>Everyone</td>\n",
              "      <td>Auto &amp; Vehicles</td>\n",
              "      <td>25-May-18</td>\n",
              "      <td>Varies with device</td>\n",
              "      <td>Varies with device</td>\n",
              "    </tr>\n",
              "    <tr>\n",
              "      <th>2059</th>\n",
              "      <td>Strawberry Shortcake Ice Cream Island</td>\n",
              "      <td>FAMILY</td>\n",
              "      <td>4.2</td>\n",
              "      <td>32029</td>\n",
              "      <td>15.0000</td>\n",
              "      <td>5000000</td>\n",
              "      <td>Free</td>\n",
              "      <td>0</td>\n",
              "      <td>Everyone</td>\n",
              "      <td>Casual;Pretend Play</td>\n",
              "      <td>6-Nov-17</td>\n",
              "      <td>1.2</td>\n",
              "      <td>4.1 and up</td>\n",
              "    </tr>\n",
              "    <tr>\n",
              "      <th>9742</th>\n",
              "      <td>Foot Surgery Hospital Simulator: ER Doctor Games</td>\n",
              "      <td>FAMILY</td>\n",
              "      <td>3.9</td>\n",
              "      <td>314</td>\n",
              "      <td>28.0000</td>\n",
              "      <td>100000</td>\n",
              "      <td>Free</td>\n",
              "      <td>0</td>\n",
              "      <td>Everyone</td>\n",
              "      <td>Casual</td>\n",
              "      <td>15-Jan-18</td>\n",
              "      <td>1.1</td>\n",
              "      <td>5.1 and up</td>\n",
              "    </tr>\n",
              "  </tbody>\n",
              "</table>\n",
              "</div>\n",
              "    <div class=\"colab-df-buttons\">\n",
              "\n",
              "  <div class=\"colab-df-container\">\n",
              "    <button class=\"colab-df-convert\" onclick=\"convertToInteractive('df-180c76b2-87ba-4146-adb5-468448a077e3')\"\n",
              "            title=\"Convert this dataframe to an interactive table.\"\n",
              "            style=\"display:none;\">\n",
              "\n",
              "  <svg xmlns=\"http://www.w3.org/2000/svg\" height=\"24px\" viewBox=\"0 -960 960 960\">\n",
              "    <path d=\"M120-120v-720h720v720H120Zm60-500h600v-160H180v160Zm220 220h160v-160H400v160Zm0 220h160v-160H400v160ZM180-400h160v-160H180v160Zm440 0h160v-160H620v160ZM180-180h160v-160H180v160Zm440 0h160v-160H620v160Z\"/>\n",
              "  </svg>\n",
              "    </button>\n",
              "\n",
              "  <style>\n",
              "    .colab-df-container {\n",
              "      display:flex;\n",
              "      gap: 12px;\n",
              "    }\n",
              "\n",
              "    .colab-df-convert {\n",
              "      background-color: #E8F0FE;\n",
              "      border: none;\n",
              "      border-radius: 50%;\n",
              "      cursor: pointer;\n",
              "      display: none;\n",
              "      fill: #1967D2;\n",
              "      height: 32px;\n",
              "      padding: 0 0 0 0;\n",
              "      width: 32px;\n",
              "    }\n",
              "\n",
              "    .colab-df-convert:hover {\n",
              "      background-color: #E2EBFA;\n",
              "      box-shadow: 0px 1px 2px rgba(60, 64, 67, 0.3), 0px 1px 3px 1px rgba(60, 64, 67, 0.15);\n",
              "      fill: #174EA6;\n",
              "    }\n",
              "\n",
              "    .colab-df-buttons div {\n",
              "      margin-bottom: 4px;\n",
              "    }\n",
              "\n",
              "    [theme=dark] .colab-df-convert {\n",
              "      background-color: #3B4455;\n",
              "      fill: #D2E3FC;\n",
              "    }\n",
              "\n",
              "    [theme=dark] .colab-df-convert:hover {\n",
              "      background-color: #434B5C;\n",
              "      box-shadow: 0px 1px 3px 1px rgba(0, 0, 0, 0.15);\n",
              "      filter: drop-shadow(0px 1px 2px rgba(0, 0, 0, 0.3));\n",
              "      fill: #FFFFFF;\n",
              "    }\n",
              "  </style>\n",
              "\n",
              "    <script>\n",
              "      const buttonEl =\n",
              "        document.querySelector('#df-180c76b2-87ba-4146-adb5-468448a077e3 button.colab-df-convert');\n",
              "      buttonEl.style.display =\n",
              "        google.colab.kernel.accessAllowed ? 'block' : 'none';\n",
              "\n",
              "      async function convertToInteractive(key) {\n",
              "        const element = document.querySelector('#df-180c76b2-87ba-4146-adb5-468448a077e3');\n",
              "        const dataTable =\n",
              "          await google.colab.kernel.invokeFunction('convertToInteractive',\n",
              "                                                    [key], {});\n",
              "        if (!dataTable) return;\n",
              "\n",
              "        const docLinkHtml = 'Like what you see? Visit the ' +\n",
              "          '<a target=\"_blank\" href=https://colab.research.google.com/notebooks/data_table.ipynb>data table notebook</a>'\n",
              "          + ' to learn more about interactive tables.';\n",
              "        element.innerHTML = '';\n",
              "        dataTable['output_type'] = 'display_data';\n",
              "        await google.colab.output.renderOutput(dataTable, element);\n",
              "        const docLink = document.createElement('div');\n",
              "        docLink.innerHTML = docLinkHtml;\n",
              "        element.appendChild(docLink);\n",
              "      }\n",
              "    </script>\n",
              "  </div>\n",
              "\n",
              "\n",
              "<div id=\"df-73750491-e42f-4723-aea6-9ef8db73f97a\">\n",
              "  <button class=\"colab-df-quickchart\" onclick=\"quickchart('df-73750491-e42f-4723-aea6-9ef8db73f97a')\"\n",
              "            title=\"Suggest charts\"\n",
              "            style=\"display:none;\">\n",
              "\n",
              "<svg xmlns=\"http://www.w3.org/2000/svg\" height=\"24px\"viewBox=\"0 0 24 24\"\n",
              "     width=\"24px\">\n",
              "    <g>\n",
              "        <path d=\"M19 3H5c-1.1 0-2 .9-2 2v14c0 1.1.9 2 2 2h14c1.1 0 2-.9 2-2V5c0-1.1-.9-2-2-2zM9 17H7v-7h2v7zm4 0h-2V7h2v10zm4 0h-2v-4h2v4z\"/>\n",
              "    </g>\n",
              "</svg>\n",
              "  </button>\n",
              "\n",
              "<style>\n",
              "  .colab-df-quickchart {\n",
              "      --bg-color: #E8F0FE;\n",
              "      --fill-color: #1967D2;\n",
              "      --hover-bg-color: #E2EBFA;\n",
              "      --hover-fill-color: #174EA6;\n",
              "      --disabled-fill-color: #AAA;\n",
              "      --disabled-bg-color: #DDD;\n",
              "  }\n",
              "\n",
              "  [theme=dark] .colab-df-quickchart {\n",
              "      --bg-color: #3B4455;\n",
              "      --fill-color: #D2E3FC;\n",
              "      --hover-bg-color: #434B5C;\n",
              "      --hover-fill-color: #FFFFFF;\n",
              "      --disabled-bg-color: #3B4455;\n",
              "      --disabled-fill-color: #666;\n",
              "  }\n",
              "\n",
              "  .colab-df-quickchart {\n",
              "    background-color: var(--bg-color);\n",
              "    border: none;\n",
              "    border-radius: 50%;\n",
              "    cursor: pointer;\n",
              "    display: none;\n",
              "    fill: var(--fill-color);\n",
              "    height: 32px;\n",
              "    padding: 0;\n",
              "    width: 32px;\n",
              "  }\n",
              "\n",
              "  .colab-df-quickchart:hover {\n",
              "    background-color: var(--hover-bg-color);\n",
              "    box-shadow: 0 1px 2px rgba(60, 64, 67, 0.3), 0 1px 3px 1px rgba(60, 64, 67, 0.15);\n",
              "    fill: var(--button-hover-fill-color);\n",
              "  }\n",
              "\n",
              "  .colab-df-quickchart-complete:disabled,\n",
              "  .colab-df-quickchart-complete:disabled:hover {\n",
              "    background-color: var(--disabled-bg-color);\n",
              "    fill: var(--disabled-fill-color);\n",
              "    box-shadow: none;\n",
              "  }\n",
              "\n",
              "  .colab-df-spinner {\n",
              "    border: 2px solid var(--fill-color);\n",
              "    border-color: transparent;\n",
              "    border-bottom-color: var(--fill-color);\n",
              "    animation:\n",
              "      spin 1s steps(1) infinite;\n",
              "  }\n",
              "\n",
              "  @keyframes spin {\n",
              "    0% {\n",
              "      border-color: transparent;\n",
              "      border-bottom-color: var(--fill-color);\n",
              "      border-left-color: var(--fill-color);\n",
              "    }\n",
              "    20% {\n",
              "      border-color: transparent;\n",
              "      border-left-color: var(--fill-color);\n",
              "      border-top-color: var(--fill-color);\n",
              "    }\n",
              "    30% {\n",
              "      border-color: transparent;\n",
              "      border-left-color: var(--fill-color);\n",
              "      border-top-color: var(--fill-color);\n",
              "      border-right-color: var(--fill-color);\n",
              "    }\n",
              "    40% {\n",
              "      border-color: transparent;\n",
              "      border-right-color: var(--fill-color);\n",
              "      border-top-color: var(--fill-color);\n",
              "    }\n",
              "    60% {\n",
              "      border-color: transparent;\n",
              "      border-right-color: var(--fill-color);\n",
              "    }\n",
              "    80% {\n",
              "      border-color: transparent;\n",
              "      border-right-color: var(--fill-color);\n",
              "      border-bottom-color: var(--fill-color);\n",
              "    }\n",
              "    90% {\n",
              "      border-color: transparent;\n",
              "      border-bottom-color: var(--fill-color);\n",
              "    }\n",
              "  }\n",
              "</style>\n",
              "\n",
              "  <script>\n",
              "    async function quickchart(key) {\n",
              "      const quickchartButtonEl =\n",
              "        document.querySelector('#' + key + ' button');\n",
              "      quickchartButtonEl.disabled = true;  // To prevent multiple clicks.\n",
              "      quickchartButtonEl.classList.add('colab-df-spinner');\n",
              "      try {\n",
              "        const charts = await google.colab.kernel.invokeFunction(\n",
              "            'suggestCharts', [key], {});\n",
              "      } catch (error) {\n",
              "        console.error('Error during call to suggestCharts:', error);\n",
              "      }\n",
              "      quickchartButtonEl.classList.remove('colab-df-spinner');\n",
              "      quickchartButtonEl.classList.add('colab-df-quickchart-complete');\n",
              "    }\n",
              "    (() => {\n",
              "      let quickchartButtonEl =\n",
              "        document.querySelector('#df-73750491-e42f-4723-aea6-9ef8db73f97a button');\n",
              "      quickchartButtonEl.style.display =\n",
              "        google.colab.kernel.accessAllowed ? 'block' : 'none';\n",
              "    })();\n",
              "  </script>\n",
              "</div>\n",
              "    </div>\n",
              "  </div>\n"
            ]
          },
          "metadata": {},
          "execution_count": 32
        }
      ]
    },
    {
      "cell_type": "code",
      "source": [
        "# Convert the 'Price' column to numeric\n",
        "dataset['Price'] = pd.to_numeric(dataset['Price'], errors='coerce')\n",
        "\n",
        "# Drop rows with NaN values in the 'Price' column\n",
        "dataset = dataset.dropna(subset=['Price'])\n",
        "\n",
        "# Convert 'Installs' column to integer\n",
        "dataset['Price'] = dataset['Price'].astype(int)"
      ],
      "metadata": {
        "id": "5ILtCUmMmAAt"
      },
      "execution_count": null,
      "outputs": []
    },
    {
      "cell_type": "code",
      "source": [
        "# Retrive the info from DataFrame dataset\n",
        "dataset.info()"
      ],
      "metadata": {
        "colab": {
          "base_uri": "https://localhost:8080/"
        },
        "id": "Ix_8pYZtmG6B",
        "outputId": "b46484c7-025e-44cd-ad2e-1af3a48ccb5b"
      },
      "execution_count": null,
      "outputs": [
        {
          "output_type": "stream",
          "name": "stdout",
          "text": [
            "<class 'pandas.core.frame.DataFrame'>\n",
            "Int64Index: 10840 entries, 0 to 10840\n",
            "Data columns (total 13 columns):\n",
            " #   Column          Non-Null Count  Dtype  \n",
            "---  ------          --------------  -----  \n",
            " 0   App             10840 non-null  object \n",
            " 1   Category        10840 non-null  object \n",
            " 2   Rating          10840 non-null  float64\n",
            " 3   Reviews         10840 non-null  int64  \n",
            " 4   Size            10840 non-null  float64\n",
            " 5   Installs        10840 non-null  int64  \n",
            " 6   Type            10839 non-null  object \n",
            " 7   Price           10840 non-null  int64  \n",
            " 8   Content Rating  10840 non-null  object \n",
            " 9   Genres          10840 non-null  object \n",
            " 10  Last Updated    10840 non-null  object \n",
            " 11  Current Ver     10832 non-null  object \n",
            " 12  Android Ver     10838 non-null  object \n",
            "dtypes: float64(2), int64(3), object(8)\n",
            "memory usage: 1.2+ MB\n"
          ]
        }
      ]
    },
    {
      "cell_type": "markdown",
      "source": [
        "Content Rating"
      ],
      "metadata": {
        "id": "Go3z1IZ2Y3GJ"
      }
    },
    {
      "cell_type": "code",
      "source": [
        "# Retrieve unique values of 'Content Rating' column\n",
        "dataset['Content Rating'].unique()"
      ],
      "metadata": {
        "colab": {
          "base_uri": "https://localhost:8080/"
        },
        "id": "Y3UW2o1Za5q2",
        "outputId": "91e678e9-65ad-40d8-db13-20c1e14acb3e"
      },
      "execution_count": null,
      "outputs": [
        {
          "output_type": "execute_result",
          "data": {
            "text/plain": [
              "array(['Everyone', 'Teen', 'Everyone 10+', 'Mature 17+',\n",
              "       'Adults only 18+', 'Unrated'], dtype=object)"
            ]
          },
          "metadata": {},
          "execution_count": 35
        }
      ]
    },
    {
      "cell_type": "markdown",
      "source": [
        "Last Updated"
      ],
      "metadata": {
        "id": "qKdW8SBv3nJe"
      }
    },
    {
      "cell_type": "code",
      "source": [
        "# Retrieve unique values of 'Last Updated' column\n",
        "dataset['Last Updated'].unique()"
      ],
      "metadata": {
        "colab": {
          "base_uri": "https://localhost:8080/"
        },
        "id": "-lSVxrKV3mKE",
        "outputId": "fb25a738-fb8b-4198-d38c-0ab665458125"
      },
      "execution_count": null,
      "outputs": [
        {
          "output_type": "execute_result",
          "data": {
            "text/plain": [
              "array(['7-Jan-18', '15-Jan-18', '1-Aug-18', ..., '20-Jan-14', '16-Feb-14',\n",
              "       '23-Mar-14'], dtype=object)"
            ]
          },
          "metadata": {},
          "execution_count": 37
        }
      ]
    },
    {
      "cell_type": "code",
      "source": [
        "# Convert the 'Last Updated' column to datetime format\n",
        "dataset['Last Updated'] = pd.to_datetime(dataset['Last Updated'])\n",
        "\n",
        "# Display the first 10 rows of the 'Last Updated' column after conversion\n",
        "print(dataset['Last Updated'].head(10))"
      ],
      "metadata": {
        "colab": {
          "base_uri": "https://localhost:8080/"
        },
        "id": "6As3ukam3sin",
        "outputId": "e9a81312-b570-40b7-9239-05265562c600"
      },
      "execution_count": null,
      "outputs": [
        {
          "output_type": "stream",
          "name": "stdout",
          "text": [
            "0   2018-01-07\n",
            "1   2018-01-15\n",
            "2   2018-08-01\n",
            "3   2018-06-08\n",
            "4   2018-06-20\n",
            "5   2017-03-26\n",
            "6   2018-04-26\n",
            "7   2018-06-14\n",
            "8   2017-09-20\n",
            "9   2018-07-03\n",
            "Name: Last Updated, dtype: datetime64[ns]\n"
          ]
        }
      ]
    },
    {
      "cell_type": "code",
      "source": [
        "# Extract and create new columns for month and year from the 'Last Updated' column\n",
        "dataset['Updated_Month'] = dataset['Last Updated'].dt.month\n",
        "dataset['Updated_Year'] = dataset['Last Updated'].dt.year"
      ],
      "metadata": {
        "id": "e9LEVpF13uEg"
      },
      "execution_count": null,
      "outputs": []
    },
    {
      "cell_type": "code",
      "source": [
        "# Drop 'Last Updated' column\n",
        "dataset.drop('Last Updated', axis=1, inplace=True)"
      ],
      "metadata": {
        "id": "9od8cqw638KT"
      },
      "execution_count": null,
      "outputs": []
    },
    {
      "cell_type": "code",
      "source": [
        "# Display 5 random samples\n",
        "dataset.sample(5)"
      ],
      "metadata": {
        "colab": {
          "base_uri": "https://localhost:8080/",
          "height": 206
        },
        "id": "bDCDGjz-4Bbn",
        "outputId": "7233a1d1-65d6-43ae-d03e-f1c0a7c64b0e"
      },
      "execution_count": null,
      "outputs": [
        {
          "output_type": "execute_result",
          "data": {
            "text/plain": [
              "                                        App       Category  Rating  Reviews  \\\n",
              "977   A&E - Watch Full Episodes of TV Shows  ENTERTAINMENT     4.0    29706   \n",
              "6741                            BS Battery+          TOOLS     4.3      269   \n",
              "7518                               Leica CL    PHOTOGRAPHY     2.6        8   \n",
              "5653                    AU Mobile Indonesia           GAME     3.6    16521   \n",
              "8931                            dv Prompter  VIDEO_PLAYERS     3.7      321   \n",
              "\n",
              "         Size  Installs  Type  Price Content Rating                   Genres  \\\n",
              "977   19.0000   1000000  Free      0           Teen            Entertainment   \n",
              "6741   0.6470     50000  Free      0       Everyone                    Tools   \n",
              "7518   0.0024      1000  Free      0       Everyone              Photography   \n",
              "5653  23.0000   1000000  Free      0       Everyone                    Music   \n",
              "8931   0.0013     50000  Free      0       Everyone  Video Players & Editors   \n",
              "\n",
              "     Current Ver Android Ver  Updated_Month  Updated_Year  \n",
              "977        3.1.4  4.4 and up              7          2018  \n",
              "6741       4.0.1  2.0 and up              8          2012  \n",
              "7518           1  4.1 and up             11          2017  \n",
              "5653    1.8.0502  2.3 and up              5          2018  \n",
              "8931       1.2.9  4.2 and up              3          2017  "
            ],
            "text/html": [
              "\n",
              "  <div id=\"df-112ce2b3-0e7a-40c4-b303-5dfed5d19b58\" class=\"colab-df-container\">\n",
              "    <div>\n",
              "<style scoped>\n",
              "    .dataframe tbody tr th:only-of-type {\n",
              "        vertical-align: middle;\n",
              "    }\n",
              "\n",
              "    .dataframe tbody tr th {\n",
              "        vertical-align: top;\n",
              "    }\n",
              "\n",
              "    .dataframe thead th {\n",
              "        text-align: right;\n",
              "    }\n",
              "</style>\n",
              "<table border=\"1\" class=\"dataframe\">\n",
              "  <thead>\n",
              "    <tr style=\"text-align: right;\">\n",
              "      <th></th>\n",
              "      <th>App</th>\n",
              "      <th>Category</th>\n",
              "      <th>Rating</th>\n",
              "      <th>Reviews</th>\n",
              "      <th>Size</th>\n",
              "      <th>Installs</th>\n",
              "      <th>Type</th>\n",
              "      <th>Price</th>\n",
              "      <th>Content Rating</th>\n",
              "      <th>Genres</th>\n",
              "      <th>Current Ver</th>\n",
              "      <th>Android Ver</th>\n",
              "      <th>Updated_Month</th>\n",
              "      <th>Updated_Year</th>\n",
              "    </tr>\n",
              "  </thead>\n",
              "  <tbody>\n",
              "    <tr>\n",
              "      <th>977</th>\n",
              "      <td>A&amp;E - Watch Full Episodes of TV Shows</td>\n",
              "      <td>ENTERTAINMENT</td>\n",
              "      <td>4.0</td>\n",
              "      <td>29706</td>\n",
              "      <td>19.0000</td>\n",
              "      <td>1000000</td>\n",
              "      <td>Free</td>\n",
              "      <td>0</td>\n",
              "      <td>Teen</td>\n",
              "      <td>Entertainment</td>\n",
              "      <td>3.1.4</td>\n",
              "      <td>4.4 and up</td>\n",
              "      <td>7</td>\n",
              "      <td>2018</td>\n",
              "    </tr>\n",
              "    <tr>\n",
              "      <th>6741</th>\n",
              "      <td>BS Battery+</td>\n",
              "      <td>TOOLS</td>\n",
              "      <td>4.3</td>\n",
              "      <td>269</td>\n",
              "      <td>0.6470</td>\n",
              "      <td>50000</td>\n",
              "      <td>Free</td>\n",
              "      <td>0</td>\n",
              "      <td>Everyone</td>\n",
              "      <td>Tools</td>\n",
              "      <td>4.0.1</td>\n",
              "      <td>2.0 and up</td>\n",
              "      <td>8</td>\n",
              "      <td>2012</td>\n",
              "    </tr>\n",
              "    <tr>\n",
              "      <th>7518</th>\n",
              "      <td>Leica CL</td>\n",
              "      <td>PHOTOGRAPHY</td>\n",
              "      <td>2.6</td>\n",
              "      <td>8</td>\n",
              "      <td>0.0024</td>\n",
              "      <td>1000</td>\n",
              "      <td>Free</td>\n",
              "      <td>0</td>\n",
              "      <td>Everyone</td>\n",
              "      <td>Photography</td>\n",
              "      <td>1</td>\n",
              "      <td>4.1 and up</td>\n",
              "      <td>11</td>\n",
              "      <td>2017</td>\n",
              "    </tr>\n",
              "    <tr>\n",
              "      <th>5653</th>\n",
              "      <td>AU Mobile Indonesia</td>\n",
              "      <td>GAME</td>\n",
              "      <td>3.6</td>\n",
              "      <td>16521</td>\n",
              "      <td>23.0000</td>\n",
              "      <td>1000000</td>\n",
              "      <td>Free</td>\n",
              "      <td>0</td>\n",
              "      <td>Everyone</td>\n",
              "      <td>Music</td>\n",
              "      <td>1.8.0502</td>\n",
              "      <td>2.3 and up</td>\n",
              "      <td>5</td>\n",
              "      <td>2018</td>\n",
              "    </tr>\n",
              "    <tr>\n",
              "      <th>8931</th>\n",
              "      <td>dv Prompter</td>\n",
              "      <td>VIDEO_PLAYERS</td>\n",
              "      <td>3.7</td>\n",
              "      <td>321</td>\n",
              "      <td>0.0013</td>\n",
              "      <td>50000</td>\n",
              "      <td>Free</td>\n",
              "      <td>0</td>\n",
              "      <td>Everyone</td>\n",
              "      <td>Video Players &amp; Editors</td>\n",
              "      <td>1.2.9</td>\n",
              "      <td>4.2 and up</td>\n",
              "      <td>3</td>\n",
              "      <td>2017</td>\n",
              "    </tr>\n",
              "  </tbody>\n",
              "</table>\n",
              "</div>\n",
              "    <div class=\"colab-df-buttons\">\n",
              "\n",
              "  <div class=\"colab-df-container\">\n",
              "    <button class=\"colab-df-convert\" onclick=\"convertToInteractive('df-112ce2b3-0e7a-40c4-b303-5dfed5d19b58')\"\n",
              "            title=\"Convert this dataframe to an interactive table.\"\n",
              "            style=\"display:none;\">\n",
              "\n",
              "  <svg xmlns=\"http://www.w3.org/2000/svg\" height=\"24px\" viewBox=\"0 -960 960 960\">\n",
              "    <path d=\"M120-120v-720h720v720H120Zm60-500h600v-160H180v160Zm220 220h160v-160H400v160Zm0 220h160v-160H400v160ZM180-400h160v-160H180v160Zm440 0h160v-160H620v160ZM180-180h160v-160H180v160Zm440 0h160v-160H620v160Z\"/>\n",
              "  </svg>\n",
              "    </button>\n",
              "\n",
              "  <style>\n",
              "    .colab-df-container {\n",
              "      display:flex;\n",
              "      gap: 12px;\n",
              "    }\n",
              "\n",
              "    .colab-df-convert {\n",
              "      background-color: #E8F0FE;\n",
              "      border: none;\n",
              "      border-radius: 50%;\n",
              "      cursor: pointer;\n",
              "      display: none;\n",
              "      fill: #1967D2;\n",
              "      height: 32px;\n",
              "      padding: 0 0 0 0;\n",
              "      width: 32px;\n",
              "    }\n",
              "\n",
              "    .colab-df-convert:hover {\n",
              "      background-color: #E2EBFA;\n",
              "      box-shadow: 0px 1px 2px rgba(60, 64, 67, 0.3), 0px 1px 3px 1px rgba(60, 64, 67, 0.15);\n",
              "      fill: #174EA6;\n",
              "    }\n",
              "\n",
              "    .colab-df-buttons div {\n",
              "      margin-bottom: 4px;\n",
              "    }\n",
              "\n",
              "    [theme=dark] .colab-df-convert {\n",
              "      background-color: #3B4455;\n",
              "      fill: #D2E3FC;\n",
              "    }\n",
              "\n",
              "    [theme=dark] .colab-df-convert:hover {\n",
              "      background-color: #434B5C;\n",
              "      box-shadow: 0px 1px 3px 1px rgba(0, 0, 0, 0.15);\n",
              "      filter: drop-shadow(0px 1px 2px rgba(0, 0, 0, 0.3));\n",
              "      fill: #FFFFFF;\n",
              "    }\n",
              "  </style>\n",
              "\n",
              "    <script>\n",
              "      const buttonEl =\n",
              "        document.querySelector('#df-112ce2b3-0e7a-40c4-b303-5dfed5d19b58 button.colab-df-convert');\n",
              "      buttonEl.style.display =\n",
              "        google.colab.kernel.accessAllowed ? 'block' : 'none';\n",
              "\n",
              "      async function convertToInteractive(key) {\n",
              "        const element = document.querySelector('#df-112ce2b3-0e7a-40c4-b303-5dfed5d19b58');\n",
              "        const dataTable =\n",
              "          await google.colab.kernel.invokeFunction('convertToInteractive',\n",
              "                                                    [key], {});\n",
              "        if (!dataTable) return;\n",
              "\n",
              "        const docLinkHtml = 'Like what you see? Visit the ' +\n",
              "          '<a target=\"_blank\" href=https://colab.research.google.com/notebooks/data_table.ipynb>data table notebook</a>'\n",
              "          + ' to learn more about interactive tables.';\n",
              "        element.innerHTML = '';\n",
              "        dataTable['output_type'] = 'display_data';\n",
              "        await google.colab.output.renderOutput(dataTable, element);\n",
              "        const docLink = document.createElement('div');\n",
              "        docLink.innerHTML = docLinkHtml;\n",
              "        element.appendChild(docLink);\n",
              "      }\n",
              "    </script>\n",
              "  </div>\n",
              "\n",
              "\n",
              "<div id=\"df-5fe37232-47c2-4bcb-a4d6-5f9b72b9aa1d\">\n",
              "  <button class=\"colab-df-quickchart\" onclick=\"quickchart('df-5fe37232-47c2-4bcb-a4d6-5f9b72b9aa1d')\"\n",
              "            title=\"Suggest charts\"\n",
              "            style=\"display:none;\">\n",
              "\n",
              "<svg xmlns=\"http://www.w3.org/2000/svg\" height=\"24px\"viewBox=\"0 0 24 24\"\n",
              "     width=\"24px\">\n",
              "    <g>\n",
              "        <path d=\"M19 3H5c-1.1 0-2 .9-2 2v14c0 1.1.9 2 2 2h14c1.1 0 2-.9 2-2V5c0-1.1-.9-2-2-2zM9 17H7v-7h2v7zm4 0h-2V7h2v10zm4 0h-2v-4h2v4z\"/>\n",
              "    </g>\n",
              "</svg>\n",
              "  </button>\n",
              "\n",
              "<style>\n",
              "  .colab-df-quickchart {\n",
              "      --bg-color: #E8F0FE;\n",
              "      --fill-color: #1967D2;\n",
              "      --hover-bg-color: #E2EBFA;\n",
              "      --hover-fill-color: #174EA6;\n",
              "      --disabled-fill-color: #AAA;\n",
              "      --disabled-bg-color: #DDD;\n",
              "  }\n",
              "\n",
              "  [theme=dark] .colab-df-quickchart {\n",
              "      --bg-color: #3B4455;\n",
              "      --fill-color: #D2E3FC;\n",
              "      --hover-bg-color: #434B5C;\n",
              "      --hover-fill-color: #FFFFFF;\n",
              "      --disabled-bg-color: #3B4455;\n",
              "      --disabled-fill-color: #666;\n",
              "  }\n",
              "\n",
              "  .colab-df-quickchart {\n",
              "    background-color: var(--bg-color);\n",
              "    border: none;\n",
              "    border-radius: 50%;\n",
              "    cursor: pointer;\n",
              "    display: none;\n",
              "    fill: var(--fill-color);\n",
              "    height: 32px;\n",
              "    padding: 0;\n",
              "    width: 32px;\n",
              "  }\n",
              "\n",
              "  .colab-df-quickchart:hover {\n",
              "    background-color: var(--hover-bg-color);\n",
              "    box-shadow: 0 1px 2px rgba(60, 64, 67, 0.3), 0 1px 3px 1px rgba(60, 64, 67, 0.15);\n",
              "    fill: var(--button-hover-fill-color);\n",
              "  }\n",
              "\n",
              "  .colab-df-quickchart-complete:disabled,\n",
              "  .colab-df-quickchart-complete:disabled:hover {\n",
              "    background-color: var(--disabled-bg-color);\n",
              "    fill: var(--disabled-fill-color);\n",
              "    box-shadow: none;\n",
              "  }\n",
              "\n",
              "  .colab-df-spinner {\n",
              "    border: 2px solid var(--fill-color);\n",
              "    border-color: transparent;\n",
              "    border-bottom-color: var(--fill-color);\n",
              "    animation:\n",
              "      spin 1s steps(1) infinite;\n",
              "  }\n",
              "\n",
              "  @keyframes spin {\n",
              "    0% {\n",
              "      border-color: transparent;\n",
              "      border-bottom-color: var(--fill-color);\n",
              "      border-left-color: var(--fill-color);\n",
              "    }\n",
              "    20% {\n",
              "      border-color: transparent;\n",
              "      border-left-color: var(--fill-color);\n",
              "      border-top-color: var(--fill-color);\n",
              "    }\n",
              "    30% {\n",
              "      border-color: transparent;\n",
              "      border-left-color: var(--fill-color);\n",
              "      border-top-color: var(--fill-color);\n",
              "      border-right-color: var(--fill-color);\n",
              "    }\n",
              "    40% {\n",
              "      border-color: transparent;\n",
              "      border-right-color: var(--fill-color);\n",
              "      border-top-color: var(--fill-color);\n",
              "    }\n",
              "    60% {\n",
              "      border-color: transparent;\n",
              "      border-right-color: var(--fill-color);\n",
              "    }\n",
              "    80% {\n",
              "      border-color: transparent;\n",
              "      border-right-color: var(--fill-color);\n",
              "      border-bottom-color: var(--fill-color);\n",
              "    }\n",
              "    90% {\n",
              "      border-color: transparent;\n",
              "      border-bottom-color: var(--fill-color);\n",
              "    }\n",
              "  }\n",
              "</style>\n",
              "\n",
              "  <script>\n",
              "    async function quickchart(key) {\n",
              "      const quickchartButtonEl =\n",
              "        document.querySelector('#' + key + ' button');\n",
              "      quickchartButtonEl.disabled = true;  // To prevent multiple clicks.\n",
              "      quickchartButtonEl.classList.add('colab-df-spinner');\n",
              "      try {\n",
              "        const charts = await google.colab.kernel.invokeFunction(\n",
              "            'suggestCharts', [key], {});\n",
              "      } catch (error) {\n",
              "        console.error('Error during call to suggestCharts:', error);\n",
              "      }\n",
              "      quickchartButtonEl.classList.remove('colab-df-spinner');\n",
              "      quickchartButtonEl.classList.add('colab-df-quickchart-complete');\n",
              "    }\n",
              "    (() => {\n",
              "      let quickchartButtonEl =\n",
              "        document.querySelector('#df-5fe37232-47c2-4bcb-a4d6-5f9b72b9aa1d button');\n",
              "      quickchartButtonEl.style.display =\n",
              "        google.colab.kernel.accessAllowed ? 'block' : 'none';\n",
              "    })();\n",
              "  </script>\n",
              "</div>\n",
              "    </div>\n",
              "  </div>\n"
            ]
          },
          "metadata": {},
          "execution_count": 42
        }
      ]
    },
    {
      "cell_type": "markdown",
      "source": [
        "Type"
      ],
      "metadata": {
        "id": "LJHWKFfX4SYw"
      }
    },
    {
      "cell_type": "code",
      "source": [
        "# Retrieve the unique values of 'Type' column\n",
        "dataset['Type'].unique()"
      ],
      "metadata": {
        "colab": {
          "base_uri": "https://localhost:8080/"
        },
        "id": "dKh77NQg4TdH",
        "outputId": "1302035b-711b-4867-8ad8-c99f3ea08f26"
      },
      "execution_count": null,
      "outputs": [
        {
          "output_type": "execute_result",
          "data": {
            "text/plain": [
              "array(['Free', 'Paid', nan], dtype=object)"
            ]
          },
          "metadata": {},
          "execution_count": 43
        }
      ]
    },
    {
      "cell_type": "code",
      "source": [
        "# Fill missing values in the 'Type' column with the mode\n",
        "dataset['Type'].fillna(str(dataset['Type'].mode().values[0]),inplace=True)"
      ],
      "metadata": {
        "id": "SILWgOup4WXQ"
      },
      "execution_count": null,
      "outputs": []
    },
    {
      "cell_type": "code",
      "source": [
        "# Retrieve the unique values of 'Type' column\n",
        "dataset['Type'].unique()"
      ],
      "metadata": {
        "colab": {
          "base_uri": "https://localhost:8080/"
        },
        "id": "FA2s_PC74Zyq",
        "outputId": "c23b8917-9a8a-4e66-cfe3-8a595c90b377"
      },
      "execution_count": null,
      "outputs": [
        {
          "output_type": "execute_result",
          "data": {
            "text/plain": [
              "array(['Free', 'Paid'], dtype=object)"
            ]
          },
          "metadata": {},
          "execution_count": 45
        }
      ]
    },
    {
      "cell_type": "code",
      "source": [
        "# Find the null values in the dataset and sum them\n",
        "dataset.isnull().sum()"
      ],
      "metadata": {
        "colab": {
          "base_uri": "https://localhost:8080/"
        },
        "id": "NadxYpd9L8Ux",
        "outputId": "715b30e8-34cb-4032-fd01-885614aca402"
      },
      "execution_count": null,
      "outputs": [
        {
          "output_type": "execute_result",
          "data": {
            "text/plain": [
              "App               0\n",
              "Category          0\n",
              "Rating            0\n",
              "Reviews           0\n",
              "Size              0\n",
              "Installs          0\n",
              "Type              0\n",
              "Price             0\n",
              "Content Rating    0\n",
              "Genres            0\n",
              "Current Ver       8\n",
              "Android Ver       2\n",
              "Updated_Month     0\n",
              "Updated_Year      0\n",
              "dtype: int64"
            ]
          },
          "metadata": {},
          "execution_count": 46
        }
      ]
    },
    {
      "cell_type": "markdown",
      "source": [
        "Dealing With Missing Value"
      ],
      "metadata": {
        "id": "r3_xjx6m5A5X"
      }
    },
    {
      "cell_type": "code",
      "source": [
        "# Display the dataset information\n",
        "dataset.info()"
      ],
      "metadata": {
        "colab": {
          "base_uri": "https://localhost:8080/"
        },
        "id": "Dzk3U_Vu5Elv",
        "outputId": "eea8dbfd-4b0f-4878-aacc-1b51c8fd4140"
      },
      "execution_count": null,
      "outputs": [
        {
          "output_type": "stream",
          "name": "stdout",
          "text": [
            "<class 'pandas.core.frame.DataFrame'>\n",
            "Int64Index: 10840 entries, 0 to 10840\n",
            "Data columns (total 14 columns):\n",
            " #   Column          Non-Null Count  Dtype  \n",
            "---  ------          --------------  -----  \n",
            " 0   App             10840 non-null  object \n",
            " 1   Category        10840 non-null  object \n",
            " 2   Rating          10840 non-null  float64\n",
            " 3   Reviews         10840 non-null  int64  \n",
            " 4   Size            10840 non-null  float64\n",
            " 5   Installs        10840 non-null  int64  \n",
            " 6   Type            10840 non-null  object \n",
            " 7   Price           10840 non-null  int64  \n",
            " 8   Content Rating  10840 non-null  object \n",
            " 9   Genres          10840 non-null  object \n",
            " 10  Current Ver     10832 non-null  object \n",
            " 11  Android Ver     10838 non-null  object \n",
            " 12  Updated_Month   10840 non-null  int64  \n",
            " 13  Updated_Year    10840 non-null  int64  \n",
            "dtypes: float64(2), int64(5), object(7)\n",
            "memory usage: 1.2+ MB\n"
          ]
        }
      ]
    },
    {
      "cell_type": "code",
      "source": [
        "# Find the null value in the dataset and sum them\n",
        "dataset.isnull().sum()"
      ],
      "metadata": {
        "colab": {
          "base_uri": "https://localhost:8080/"
        },
        "id": "oGi0nauS5PVK",
        "outputId": "369b8a69-dcc5-4ece-b44c-7dd8c881e3be"
      },
      "execution_count": null,
      "outputs": [
        {
          "output_type": "execute_result",
          "data": {
            "text/plain": [
              "App               0\n",
              "Category          0\n",
              "Rating            0\n",
              "Reviews           0\n",
              "Size              0\n",
              "Installs          0\n",
              "Type              0\n",
              "Price             0\n",
              "Content Rating    0\n",
              "Genres            0\n",
              "Current Ver       8\n",
              "Android Ver       2\n",
              "Updated_Month     0\n",
              "Updated_Year      0\n",
              "dtype: int64"
            ]
          },
          "metadata": {},
          "execution_count": 48
        }
      ]
    },
    {
      "cell_type": "markdown",
      "source": [
        "Duplicate Data Cleaning"
      ],
      "metadata": {
        "id": "Fseh5rjO5b7e"
      }
    },
    {
      "cell_type": "code",
      "source": [
        "# Check for duplicate rows in the 'dataset' and print the total number of duplicates\n",
        "duplicate = dataset.duplicated()\n",
        "print(duplicate.sum())"
      ],
      "metadata": {
        "colab": {
          "base_uri": "https://localhost:8080/"
        },
        "id": "fTt7UFRE5ZZO",
        "outputId": "d6c16777-7854-4222-ea4a-20337a868f24"
      },
      "execution_count": null,
      "outputs": [
        {
          "output_type": "stream",
          "name": "stdout",
          "text": [
            "484\n"
          ]
        }
      ]
    },
    {
      "cell_type": "code",
      "source": [
        "# Drop duplicate rows\n",
        "dataset.drop_duplicates(inplace=True)"
      ],
      "metadata": {
        "id": "03luz7Jv5gZQ"
      },
      "execution_count": null,
      "outputs": []
    },
    {
      "cell_type": "code",
      "source": [
        "# Check for duplicate rows in the 'dataset' and print the total number of duplicates\n",
        "duplicate = dataset.duplicated()\n",
        "print(duplicate.sum())"
      ],
      "metadata": {
        "colab": {
          "base_uri": "https://localhost:8080/"
        },
        "id": "HlpPDbAF5j7S",
        "outputId": "af4dba36-481a-41ca-8180-f05ff852d290"
      },
      "execution_count": null,
      "outputs": [
        {
          "output_type": "stream",
          "name": "stdout",
          "text": [
            "0\n"
          ]
        }
      ]
    },
    {
      "cell_type": "markdown",
      "source": [
        "# EDA"
      ],
      "metadata": {
        "id": "ysRf6Ws_58ja"
      }
    },
    {
      "cell_type": "markdown",
      "source": [
        "Numeric Analysis"
      ],
      "metadata": {
        "id": "YmodcQhH6PA1"
      }
    },
    {
      "cell_type": "code",
      "source": [
        "# Generate descriptive statistics for the 'dataset'\n",
        "dataset.describe()"
      ],
      "metadata": {
        "colab": {
          "base_uri": "https://localhost:8080/",
          "height": 300
        },
        "id": "UiOYsjgp6IT0",
        "outputId": "ba36dbcf-8d8e-4931-fc60-233995b358b1"
      },
      "execution_count": null,
      "outputs": [
        {
          "output_type": "execute_result",
          "data": {
            "text/plain": [
              "             Rating       Reviews          Size      Installs         Price  \\\n",
              "count  10356.000000  1.035600e+04  10356.000000  1.035600e+04  10356.000000   \n",
              "mean       4.188648  4.059308e+05     16.476799  1.415816e+07      0.965334   \n",
              "std        0.484047  2.696907e+06     23.194144  8.024342e+07     16.227602   \n",
              "min        1.000000  0.000000e+00      0.000000  0.000000e+00      0.000000   \n",
              "25%        4.100000  3.200000e+01      0.003200  1.000000e+03      0.000000   \n",
              "50%        4.200000  1.678500e+03      0.240500  1.000000e+05      0.000000   \n",
              "75%        4.500000  4.638075e+04     26.000000  1.000000e+06      0.000000   \n",
              "max        5.000000  7.815831e+07    100.000000  1.000000e+09    400.000000   \n",
              "\n",
              "       Updated_Month  Updated_Year  \n",
              "count   10356.000000  10356.000000  \n",
              "mean        6.396871   2017.382870  \n",
              "std         2.606437      1.112803  \n",
              "min         1.000000   2010.000000  \n",
              "25%         5.000000   2017.000000  \n",
              "50%         7.000000   2018.000000  \n",
              "75%         8.000000   2018.000000  \n",
              "max        12.000000   2018.000000  "
            ],
            "text/html": [
              "\n",
              "  <div id=\"df-cf191e1e-7caa-4909-a03b-cbde6b507eba\" class=\"colab-df-container\">\n",
              "    <div>\n",
              "<style scoped>\n",
              "    .dataframe tbody tr th:only-of-type {\n",
              "        vertical-align: middle;\n",
              "    }\n",
              "\n",
              "    .dataframe tbody tr th {\n",
              "        vertical-align: top;\n",
              "    }\n",
              "\n",
              "    .dataframe thead th {\n",
              "        text-align: right;\n",
              "    }\n",
              "</style>\n",
              "<table border=\"1\" class=\"dataframe\">\n",
              "  <thead>\n",
              "    <tr style=\"text-align: right;\">\n",
              "      <th></th>\n",
              "      <th>Rating</th>\n",
              "      <th>Reviews</th>\n",
              "      <th>Size</th>\n",
              "      <th>Installs</th>\n",
              "      <th>Price</th>\n",
              "      <th>Updated_Month</th>\n",
              "      <th>Updated_Year</th>\n",
              "    </tr>\n",
              "  </thead>\n",
              "  <tbody>\n",
              "    <tr>\n",
              "      <th>count</th>\n",
              "      <td>10356.000000</td>\n",
              "      <td>1.035600e+04</td>\n",
              "      <td>10356.000000</td>\n",
              "      <td>1.035600e+04</td>\n",
              "      <td>10356.000000</td>\n",
              "      <td>10356.000000</td>\n",
              "      <td>10356.000000</td>\n",
              "    </tr>\n",
              "    <tr>\n",
              "      <th>mean</th>\n",
              "      <td>4.188648</td>\n",
              "      <td>4.059308e+05</td>\n",
              "      <td>16.476799</td>\n",
              "      <td>1.415816e+07</td>\n",
              "      <td>0.965334</td>\n",
              "      <td>6.396871</td>\n",
              "      <td>2017.382870</td>\n",
              "    </tr>\n",
              "    <tr>\n",
              "      <th>std</th>\n",
              "      <td>0.484047</td>\n",
              "      <td>2.696907e+06</td>\n",
              "      <td>23.194144</td>\n",
              "      <td>8.024342e+07</td>\n",
              "      <td>16.227602</td>\n",
              "      <td>2.606437</td>\n",
              "      <td>1.112803</td>\n",
              "    </tr>\n",
              "    <tr>\n",
              "      <th>min</th>\n",
              "      <td>1.000000</td>\n",
              "      <td>0.000000e+00</td>\n",
              "      <td>0.000000</td>\n",
              "      <td>0.000000e+00</td>\n",
              "      <td>0.000000</td>\n",
              "      <td>1.000000</td>\n",
              "      <td>2010.000000</td>\n",
              "    </tr>\n",
              "    <tr>\n",
              "      <th>25%</th>\n",
              "      <td>4.100000</td>\n",
              "      <td>3.200000e+01</td>\n",
              "      <td>0.003200</td>\n",
              "      <td>1.000000e+03</td>\n",
              "      <td>0.000000</td>\n",
              "      <td>5.000000</td>\n",
              "      <td>2017.000000</td>\n",
              "    </tr>\n",
              "    <tr>\n",
              "      <th>50%</th>\n",
              "      <td>4.200000</td>\n",
              "      <td>1.678500e+03</td>\n",
              "      <td>0.240500</td>\n",
              "      <td>1.000000e+05</td>\n",
              "      <td>0.000000</td>\n",
              "      <td>7.000000</td>\n",
              "      <td>2018.000000</td>\n",
              "    </tr>\n",
              "    <tr>\n",
              "      <th>75%</th>\n",
              "      <td>4.500000</td>\n",
              "      <td>4.638075e+04</td>\n",
              "      <td>26.000000</td>\n",
              "      <td>1.000000e+06</td>\n",
              "      <td>0.000000</td>\n",
              "      <td>8.000000</td>\n",
              "      <td>2018.000000</td>\n",
              "    </tr>\n",
              "    <tr>\n",
              "      <th>max</th>\n",
              "      <td>5.000000</td>\n",
              "      <td>7.815831e+07</td>\n",
              "      <td>100.000000</td>\n",
              "      <td>1.000000e+09</td>\n",
              "      <td>400.000000</td>\n",
              "      <td>12.000000</td>\n",
              "      <td>2018.000000</td>\n",
              "    </tr>\n",
              "  </tbody>\n",
              "</table>\n",
              "</div>\n",
              "    <div class=\"colab-df-buttons\">\n",
              "\n",
              "  <div class=\"colab-df-container\">\n",
              "    <button class=\"colab-df-convert\" onclick=\"convertToInteractive('df-cf191e1e-7caa-4909-a03b-cbde6b507eba')\"\n",
              "            title=\"Convert this dataframe to an interactive table.\"\n",
              "            style=\"display:none;\">\n",
              "\n",
              "  <svg xmlns=\"http://www.w3.org/2000/svg\" height=\"24px\" viewBox=\"0 -960 960 960\">\n",
              "    <path d=\"M120-120v-720h720v720H120Zm60-500h600v-160H180v160Zm220 220h160v-160H400v160Zm0 220h160v-160H400v160ZM180-400h160v-160H180v160Zm440 0h160v-160H620v160ZM180-180h160v-160H180v160Zm440 0h160v-160H620v160Z\"/>\n",
              "  </svg>\n",
              "    </button>\n",
              "\n",
              "  <style>\n",
              "    .colab-df-container {\n",
              "      display:flex;\n",
              "      gap: 12px;\n",
              "    }\n",
              "\n",
              "    .colab-df-convert {\n",
              "      background-color: #E8F0FE;\n",
              "      border: none;\n",
              "      border-radius: 50%;\n",
              "      cursor: pointer;\n",
              "      display: none;\n",
              "      fill: #1967D2;\n",
              "      height: 32px;\n",
              "      padding: 0 0 0 0;\n",
              "      width: 32px;\n",
              "    }\n",
              "\n",
              "    .colab-df-convert:hover {\n",
              "      background-color: #E2EBFA;\n",
              "      box-shadow: 0px 1px 2px rgba(60, 64, 67, 0.3), 0px 1px 3px 1px rgba(60, 64, 67, 0.15);\n",
              "      fill: #174EA6;\n",
              "    }\n",
              "\n",
              "    .colab-df-buttons div {\n",
              "      margin-bottom: 4px;\n",
              "    }\n",
              "\n",
              "    [theme=dark] .colab-df-convert {\n",
              "      background-color: #3B4455;\n",
              "      fill: #D2E3FC;\n",
              "    }\n",
              "\n",
              "    [theme=dark] .colab-df-convert:hover {\n",
              "      background-color: #434B5C;\n",
              "      box-shadow: 0px 1px 3px 1px rgba(0, 0, 0, 0.15);\n",
              "      filter: drop-shadow(0px 1px 2px rgba(0, 0, 0, 0.3));\n",
              "      fill: #FFFFFF;\n",
              "    }\n",
              "  </style>\n",
              "\n",
              "    <script>\n",
              "      const buttonEl =\n",
              "        document.querySelector('#df-cf191e1e-7caa-4909-a03b-cbde6b507eba button.colab-df-convert');\n",
              "      buttonEl.style.display =\n",
              "        google.colab.kernel.accessAllowed ? 'block' : 'none';\n",
              "\n",
              "      async function convertToInteractive(key) {\n",
              "        const element = document.querySelector('#df-cf191e1e-7caa-4909-a03b-cbde6b507eba');\n",
              "        const dataTable =\n",
              "          await google.colab.kernel.invokeFunction('convertToInteractive',\n",
              "                                                    [key], {});\n",
              "        if (!dataTable) return;\n",
              "\n",
              "        const docLinkHtml = 'Like what you see? Visit the ' +\n",
              "          '<a target=\"_blank\" href=https://colab.research.google.com/notebooks/data_table.ipynb>data table notebook</a>'\n",
              "          + ' to learn more about interactive tables.';\n",
              "        element.innerHTML = '';\n",
              "        dataTable['output_type'] = 'display_data';\n",
              "        await google.colab.output.renderOutput(dataTable, element);\n",
              "        const docLink = document.createElement('div');\n",
              "        docLink.innerHTML = docLinkHtml;\n",
              "        element.appendChild(docLink);\n",
              "      }\n",
              "    </script>\n",
              "  </div>\n",
              "\n",
              "\n",
              "<div id=\"df-6aa582aa-97ec-41a8-b9e0-f70d1e2b7548\">\n",
              "  <button class=\"colab-df-quickchart\" onclick=\"quickchart('df-6aa582aa-97ec-41a8-b9e0-f70d1e2b7548')\"\n",
              "            title=\"Suggest charts\"\n",
              "            style=\"display:none;\">\n",
              "\n",
              "<svg xmlns=\"http://www.w3.org/2000/svg\" height=\"24px\"viewBox=\"0 0 24 24\"\n",
              "     width=\"24px\">\n",
              "    <g>\n",
              "        <path d=\"M19 3H5c-1.1 0-2 .9-2 2v14c0 1.1.9 2 2 2h14c1.1 0 2-.9 2-2V5c0-1.1-.9-2-2-2zM9 17H7v-7h2v7zm4 0h-2V7h2v10zm4 0h-2v-4h2v4z\"/>\n",
              "    </g>\n",
              "</svg>\n",
              "  </button>\n",
              "\n",
              "<style>\n",
              "  .colab-df-quickchart {\n",
              "      --bg-color: #E8F0FE;\n",
              "      --fill-color: #1967D2;\n",
              "      --hover-bg-color: #E2EBFA;\n",
              "      --hover-fill-color: #174EA6;\n",
              "      --disabled-fill-color: #AAA;\n",
              "      --disabled-bg-color: #DDD;\n",
              "  }\n",
              "\n",
              "  [theme=dark] .colab-df-quickchart {\n",
              "      --bg-color: #3B4455;\n",
              "      --fill-color: #D2E3FC;\n",
              "      --hover-bg-color: #434B5C;\n",
              "      --hover-fill-color: #FFFFFF;\n",
              "      --disabled-bg-color: #3B4455;\n",
              "      --disabled-fill-color: #666;\n",
              "  }\n",
              "\n",
              "  .colab-df-quickchart {\n",
              "    background-color: var(--bg-color);\n",
              "    border: none;\n",
              "    border-radius: 50%;\n",
              "    cursor: pointer;\n",
              "    display: none;\n",
              "    fill: var(--fill-color);\n",
              "    height: 32px;\n",
              "    padding: 0;\n",
              "    width: 32px;\n",
              "  }\n",
              "\n",
              "  .colab-df-quickchart:hover {\n",
              "    background-color: var(--hover-bg-color);\n",
              "    box-shadow: 0 1px 2px rgba(60, 64, 67, 0.3), 0 1px 3px 1px rgba(60, 64, 67, 0.15);\n",
              "    fill: var(--button-hover-fill-color);\n",
              "  }\n",
              "\n",
              "  .colab-df-quickchart-complete:disabled,\n",
              "  .colab-df-quickchart-complete:disabled:hover {\n",
              "    background-color: var(--disabled-bg-color);\n",
              "    fill: var(--disabled-fill-color);\n",
              "    box-shadow: none;\n",
              "  }\n",
              "\n",
              "  .colab-df-spinner {\n",
              "    border: 2px solid var(--fill-color);\n",
              "    border-color: transparent;\n",
              "    border-bottom-color: var(--fill-color);\n",
              "    animation:\n",
              "      spin 1s steps(1) infinite;\n",
              "  }\n",
              "\n",
              "  @keyframes spin {\n",
              "    0% {\n",
              "      border-color: transparent;\n",
              "      border-bottom-color: var(--fill-color);\n",
              "      border-left-color: var(--fill-color);\n",
              "    }\n",
              "    20% {\n",
              "      border-color: transparent;\n",
              "      border-left-color: var(--fill-color);\n",
              "      border-top-color: var(--fill-color);\n",
              "    }\n",
              "    30% {\n",
              "      border-color: transparent;\n",
              "      border-left-color: var(--fill-color);\n",
              "      border-top-color: var(--fill-color);\n",
              "      border-right-color: var(--fill-color);\n",
              "    }\n",
              "    40% {\n",
              "      border-color: transparent;\n",
              "      border-right-color: var(--fill-color);\n",
              "      border-top-color: var(--fill-color);\n",
              "    }\n",
              "    60% {\n",
              "      border-color: transparent;\n",
              "      border-right-color: var(--fill-color);\n",
              "    }\n",
              "    80% {\n",
              "      border-color: transparent;\n",
              "      border-right-color: var(--fill-color);\n",
              "      border-bottom-color: var(--fill-color);\n",
              "    }\n",
              "    90% {\n",
              "      border-color: transparent;\n",
              "      border-bottom-color: var(--fill-color);\n",
              "    }\n",
              "  }\n",
              "</style>\n",
              "\n",
              "  <script>\n",
              "    async function quickchart(key) {\n",
              "      const quickchartButtonEl =\n",
              "        document.querySelector('#' + key + ' button');\n",
              "      quickchartButtonEl.disabled = true;  // To prevent multiple clicks.\n",
              "      quickchartButtonEl.classList.add('colab-df-spinner');\n",
              "      try {\n",
              "        const charts = await google.colab.kernel.invokeFunction(\n",
              "            'suggestCharts', [key], {});\n",
              "      } catch (error) {\n",
              "        console.error('Error during call to suggestCharts:', error);\n",
              "      }\n",
              "      quickchartButtonEl.classList.remove('colab-df-spinner');\n",
              "      quickchartButtonEl.classList.add('colab-df-quickchart-complete');\n",
              "    }\n",
              "    (() => {\n",
              "      let quickchartButtonEl =\n",
              "        document.querySelector('#df-6aa582aa-97ec-41a8-b9e0-f70d1e2b7548 button');\n",
              "      quickchartButtonEl.style.display =\n",
              "        google.colab.kernel.accessAllowed ? 'block' : 'none';\n",
              "    })();\n",
              "  </script>\n",
              "</div>\n",
              "    </div>\n",
              "  </div>\n"
            ]
          },
          "metadata": {},
          "execution_count": 53
        }
      ]
    },
    {
      "cell_type": "code",
      "source": [
        "# Counts unique category\n",
        "category_counts = dataset['Category'].value_counts()\n",
        "print(category_counts)"
      ],
      "metadata": {
        "colab": {
          "base_uri": "https://localhost:8080/"
        },
        "id": "cJOURf1l_G4K",
        "outputId": "6b95402a-2f7a-44be-af24-b46829398f9c"
      },
      "execution_count": null,
      "outputs": [
        {
          "output_type": "stream",
          "name": "stdout",
          "text": [
            "FAMILY                 1943\n",
            "GAME                   1121\n",
            "TOOLS                   842\n",
            "BUSINESS                427\n",
            "MEDICAL                 408\n",
            "PRODUCTIVITY            407\n",
            "PERSONALIZATION         388\n",
            "LIFESTYLE               373\n",
            "COMMUNICATION           366\n",
            "FINANCE                 360\n",
            "SPORTS                  351\n",
            "PHOTOGRAPHY             322\n",
            "HEALTH_AND_FITNESS      306\n",
            "SOCIAL                  280\n",
            "NEWS_AND_MAGAZINES      264\n",
            "TRAVEL_AND_LOCAL        237\n",
            "BOOKS_AND_REFERENCE     230\n",
            "SHOPPING                224\n",
            "DATING                  196\n",
            "VIDEO_PLAYERS           175\n",
            "MAPS_AND_NAVIGATION     137\n",
            "EDUCATION               130\n",
            "FOOD_AND_DRINK          124\n",
            "ENTERTAINMENT           111\n",
            "AUTO_AND_VEHICLES        85\n",
            "LIBRARIES_AND_DEMO       85\n",
            "WEATHER                  82\n",
            "HOUSE_AND_HOME           80\n",
            "ART_AND_DESIGN           65\n",
            "EVENTS                   64\n",
            "PARENTING                60\n",
            "COMICS                   60\n",
            "BEAUTY                   53\n",
            "Name: Category, dtype: int64\n"
          ]
        }
      ]
    },
    {
      "cell_type": "code",
      "source": [
        "# Find the minimum and maximum values in the 'Updated_Year' column of the 'dataset'\n",
        "min_date = dataset['Updated_Year'].min()\n",
        "max_date = dataset['Updated_Year'].max()\n",
        "\n",
        "# Print the minimum and maximum dates\n",
        "print(f\"Minimum Date: {min_date}\")\n",
        "print(f\"Maximum Date: {max_date}\")"
      ],
      "metadata": {
        "colab": {
          "base_uri": "https://localhost:8080/"
        },
        "id": "dQyXA-01-nly",
        "outputId": "40168ba7-1e09-47b2-9808-c1478f0b682a"
      },
      "execution_count": null,
      "outputs": [
        {
          "output_type": "stream",
          "name": "stdout",
          "text": [
            "Minimum Date: 2010\n",
            "Maximum Date: 2018\n"
          ]
        }
      ]
    },
    {
      "cell_type": "markdown",
      "source": [
        "Categorical Analysis"
      ],
      "metadata": {
        "id": "dRMTKnKB93_Q"
      }
    },
    {
      "cell_type": "code",
      "source": [
        "# Find the mode of the 'Category' column in the 'dataset'\n",
        "mode_Category = dataset['Category'].mode().values[0]\n",
        "\n",
        "# Print the mode of the 'Category' column\n",
        "print(f\"Mode of the 'Category' column: {mode_Category}\")"
      ],
      "metadata": {
        "colab": {
          "base_uri": "https://localhost:8080/"
        },
        "id": "_nsDdziU95dc",
        "outputId": "590b2930-03ea-42ee-8ab5-f8afb14fb392"
      },
      "execution_count": null,
      "outputs": [
        {
          "output_type": "stream",
          "name": "stdout",
          "text": [
            "Mode of the 'Category' column: FAMILY\n"
          ]
        }
      ]
    },
    {
      "cell_type": "code",
      "source": [
        "# Find the mode of the 'Type' column in the 'dataset'\n",
        "mode_type = dataset['Type'].mode().values[0]\n",
        "\n",
        "# Print the mode of the 'Type' column\n",
        "print(f\"Mode of the 'Type' column: {mode_type}\")\n"
      ],
      "metadata": {
        "colab": {
          "base_uri": "https://localhost:8080/"
        },
        "id": "b-TOcs_d-HqB",
        "outputId": "2c1e6a84-93a7-4a12-be37-c6a25c70db68"
      },
      "execution_count": null,
      "outputs": [
        {
          "output_type": "stream",
          "name": "stdout",
          "text": [
            "Mode of the 'Type' column: Free\n"
          ]
        }
      ]
    },
    {
      "cell_type": "markdown",
      "source": [
        "# Univariate Analysis"
      ],
      "metadata": {
        "id": "GmOZ1YPK_ur1"
      }
    },
    {
      "cell_type": "markdown",
      "source": [
        "Pie chart for top 5 App Categories"
      ],
      "metadata": {
        "id": "eTkQydl-AJkF"
      }
    },
    {
      "cell_type": "code",
      "source": [
        "import pandas as pd\n",
        "import matplotlib.pyplot as plt\n",
        "\n",
        "# Calculate the counts of each category in the 'Category' column\n",
        "category_counts = dataset['Category'].value_counts()\n",
        "\n",
        "# Select the top 5 categories\n",
        "top_categories = category_counts.head(5)\n",
        "\n",
        "# Plot a pie chart for the top 5 categories\n",
        "plt.pie(top_categories, labels=top_categories.index, autopct='%1.1f%%', startangle=90)\n",
        "\n",
        "# Set axis equal to ensure a circular pie chart\n",
        "plt.axis('equal')\n",
        "\n",
        "# Set the title of the plot\n",
        "plt.title('Top 5 App Categories on Google Play Store')\n",
        "\n",
        "# Display the plot\n",
        "plt.show()"
      ],
      "metadata": {
        "colab": {
          "base_uri": "https://localhost:8080/",
          "height": 433
        },
        "id": "4RooZ21X_yln",
        "outputId": "5c925e68-427d-444a-8a21-9f41732bd957"
      },
      "execution_count": null,
      "outputs": [
        {
          "output_type": "display_data",
          "data": {
            "text/plain": [
              "<Figure size 640x480 with 1 Axes>"
            ],
            "image/png": "[encoded data removed]"
          },
          "metadata": {}
        }
      ]
    },
    {
      "cell_type": "markdown",
      "source": [
        "Rating Distribution"
      ],
      "metadata": {
        "id": "Z1lfB0-ODMgc"
      }
    },
    {
      "cell_type": "code",
      "source": [
        "import seaborn as sns\n",
        "# Create a histogram with KDE for the 'Rating' column in the 'dataset'\n",
        "sns.histplot(dataset['Rating'], kde=True, bins=30)\n",
        "\n",
        "# Set the title, x-axis label, and y-axis label\n",
        "plt.title('Histogram with KDE of Ratings')\n",
        "plt.xlabel('Rating')\n",
        "plt.ylabel('Density')\n",
        "\n",
        "# Display the plot\n",
        "plt.show()"
      ],
      "metadata": {
        "colab": {
          "base_uri": "https://localhost:8080/",
          "height": 472
        },
        "id": "47bVYXekDPa9",
        "outputId": "aeff7fd6-b870-477d-ca18-a3cd8a338434"
      },
      "execution_count": null,
      "outputs": [
        {
          "output_type": "display_data",
          "data": {
            "text/plain": [
              "<Figure size 640x480 with 1 Axes>"
            ],
            "image/png": "[encoded data removed]"
          },
          "metadata": {}
        }
      ]
    },
    {
      "cell_type": "markdown",
      "source": [
        "Distribution of App Type"
      ],
      "metadata": {
        "id": "ctO_2I9dEHKj"
      }
    },
    {
      "cell_type": "code",
      "source": [
        "import matplotlib.pyplot as plt\n",
        "# Calculate the counts of each app type in the 'Type' column\n",
        "type_counts = dataset['Type'].value_counts()\n",
        "\n",
        "# Plot a bar chart for the distribution of app types\n",
        "plt.bar(type_counts.index, type_counts, color=['blue', 'gold'])\n",
        "\n",
        "# Set the title, x-axis label, and y-axis label\n",
        "plt.title('Distribution of App Types')\n",
        "plt.xlabel('App Type')\n",
        "plt.ylabel('Count')\n",
        "\n",
        "# Display the plot\n",
        "plt.show()"
      ],
      "metadata": {
        "colab": {
          "base_uri": "https://localhost:8080/",
          "height": 472
        },
        "id": "xcX4vlatENVd",
        "outputId": "e9563b65-b987-4a09-c084-2c1a43c6fab9"
      },
      "execution_count": null,
      "outputs": [
        {
          "output_type": "display_data",
          "data": {
            "text/plain": [
              "<Figure size 640x480 with 1 Axes>"
            ],
            "image/png": "[encoded data removed]"
          },
          "metadata": {}
        }
      ]
    },
    {
      "cell_type": "markdown",
      "source": [
        "Distribution of App Content Ratings"
      ],
      "metadata": {
        "id": "fICXZhB_EygJ"
      }
    },
    {
      "cell_type": "code",
      "source": [
        "import matplotlib.pyplot as plt\n",
        "# Calculate the counts of each content rating in the 'Content Rating' column\n",
        "content_rating_counts = dataset['Content Rating'].value_counts()\n",
        "\n",
        "# Plot a bar chart for the distribution of app content ratings\n",
        "plt.bar(content_rating_counts.index, content_rating_counts, color='skyblue')\n",
        "\n",
        "# Set the title, x-axis label, y-axis label, and rotate x-axis labels for better readability\n",
        "plt.title('Distribution of App Content Ratings')\n",
        "plt.xlabel('Content Ratings')\n",
        "plt.ylabel('Count')\n",
        "plt.xticks(rotation=45, ha='right')\n",
        "\n",
        "# Display the plot\n",
        "plt.show()"
      ],
      "metadata": {
        "colab": {
          "base_uri": "https://localhost:8080/",
          "height": 546
        },
        "id": "yoHYvmsxE3RZ",
        "outputId": "b49953bb-d836-4f6f-911a-12d12ab9f66e"
      },
      "execution_count": null,
      "outputs": [
        {
          "output_type": "display_data",
          "data": {
            "text/plain": [
              "<Figure size 640x480 with 1 Axes>"
            ],
            "image/png": "[encoded data removed]"
          },
          "metadata": {}
        }
      ]
    },
    {
      "cell_type": "markdown",
      "source": [
        "Category distribution"
      ],
      "metadata": {
        "id": "BxoX_izRRy-O"
      }
    },
    {
      "cell_type": "code",
      "source": [
        "# Set the figure size\n",
        "plt.figure(figsize=(12, 8))\n",
        "\n",
        "# Create a count plot for the distribution of apps across categories\n",
        "sns.countplot(x='Category', data=dataset)\n",
        "\n",
        "# Set the title, x-axis label, y-axis label, and rotate x-axis labels for better readability\n",
        "plt.title('Distribution of Apps Across Categories')\n",
        "plt.xlabel('Category')\n",
        "plt.ylabel('Count')\n",
        "plt.xticks(rotation=90)\n",
        "\n",
        "# Display the plot\n",
        "plt.show()"
      ],
      "metadata": {
        "colab": {
          "base_uri": "https://localhost:8080/",
          "height": 880
        },
        "id": "TzVGWX4AR15X",
        "outputId": "2171351a-1b9a-479b-cdf8-4a524991c683"
      },
      "execution_count": null,
      "outputs": [
        {
          "output_type": "display_data",
          "data": {
            "text/plain": [
              "<Figure size 1200x800 with 1 Axes>"
            ],
            "image/png": "[encoded data removed]"
          },
          "metadata": {}
        }
      ]
    },
    {
      "cell_type": "markdown",
      "source": [
        "# Bivariate Analysis"
      ],
      "metadata": {
        "id": "DneRzTW6GbpZ"
      }
    },
    {
      "cell_type": "markdown",
      "source": [
        "Numeric Data"
      ],
      "metadata": {
        "id": "wolQ4x2dIYFu"
      }
    },
    {
      "cell_type": "code",
      "source": [
        "# Select columns with numeric data types in the 'dataset'\n",
        "numeric_dataset = dataset.select_dtypes(include='number')\n",
        "\n",
        "# Print the selected numeric columns\n",
        "print(numeric_dataset)"
      ],
      "metadata": {
        "colab": {
          "base_uri": "https://localhost:8080/"
        },
        "id": "lAQQc5rPGa0K",
        "outputId": "cdefb322-c4d9-4184-f996-76fa20c9b77e"
      },
      "execution_count": null,
      "outputs": [
        {
          "output_type": "stream",
          "name": "stdout",
          "text": [
            "         Rating  Reviews     Size  Installs  Price  Updated_Month  \\\n",
            "0      4.100000      159  19.0000     10000      0              1   \n",
            "1      3.900000      967  14.0000    500000      0              1   \n",
            "2      4.700000    87510   0.0087   5000000      0              8   \n",
            "3      4.500000   215644  25.0000  50000000      0              6   \n",
            "4      4.300000      967   0.0028    100000      0              6   \n",
            "...         ...      ...      ...       ...    ...            ...   \n",
            "10836  4.500000       38  53.0000      5000      0              7   \n",
            "10837  5.000000        4   0.0036       100      0              7   \n",
            "10838  4.193338        3   0.0095      1000      0              1   \n",
            "10839  4.500000      114   0.0000      1000      0              1   \n",
            "10840  4.500000   398307  19.0000  10000000      0              7   \n",
            "\n",
            "       Updated_Year  \n",
            "0              2018  \n",
            "1              2018  \n",
            "2              2018  \n",
            "3              2018  \n",
            "4              2018  \n",
            "...             ...  \n",
            "10836          2017  \n",
            "10837          2018  \n",
            "10838          2017  \n",
            "10839          2015  \n",
            "10840          2018  \n",
            "\n",
            "[10356 rows x 7 columns]\n"
          ]
        }
      ]
    },
    {
      "cell_type": "markdown",
      "source": [
        "Categorical Data"
      ],
      "metadata": {
        "id": "T4I9n9b2Ibc4"
      }
    },
    {
      "cell_type": "code",
      "source": [
        "# Select columns with non-numeric data types in the 'dataset'\n",
        "categorical_dataset = dataset.select_dtypes(exclude='number')\n",
        "\n",
        "# Print the selected categorical columns\n",
        "print(categorical_dataset)"
      ],
      "metadata": {
        "colab": {
          "base_uri": "https://localhost:8080/"
        },
        "id": "V51tnyznIdF_",
        "outputId": "a931a048-d573-4814-a9bc-1fb0d9ddacab"
      },
      "execution_count": null,
      "outputs": [
        {
          "output_type": "stream",
          "name": "stdout",
          "text": [
            "                                                     App             Category  \\\n",
            "0         Photo Editor & Candy Camera & Grid & ScrapBook       ART_AND_DESIGN   \n",
            "1                                    Coloring book moana       ART_AND_DESIGN   \n",
            "2      U Launcher Lite – FREE Live Cool Themes, Hide ...       ART_AND_DESIGN   \n",
            "3                                  Sketch - Draw & Paint       ART_AND_DESIGN   \n",
            "4                  Pixel Draw - Number Art Coloring Book       ART_AND_DESIGN   \n",
            "...                                                  ...                  ...   \n",
            "10836                                   Sya9a Maroc - FR               FAMILY   \n",
            "10837                   Fr. Mike Schmitz Audio Teachings               FAMILY   \n",
            "10838                             Parkinson Exercices FR              MEDICAL   \n",
            "10839                      The SCP Foundation DB fr nn5n  BOOKS_AND_REFERENCE   \n",
            "10840      iHoroscope - 2018 Daily Horoscope & Astrology            LIFESTYLE   \n",
            "\n",
            "       Type Content Rating                     Genres         Current Ver  \\\n",
            "0      Free       Everyone               Art & Design               1.0.0   \n",
            "1      Free       Everyone  Art & Design;Pretend Play               2.0.0   \n",
            "2      Free       Everyone               Art & Design               1.2.4   \n",
            "3      Free           Teen               Art & Design  Varies with device   \n",
            "4      Free       Everyone    Art & Design;Creativity                 1.1   \n",
            "...     ...            ...                        ...                 ...   \n",
            "10836  Free       Everyone                  Education                1.48   \n",
            "10837  Free       Everyone                  Education                   1   \n",
            "10838  Free       Everyone                    Medical                   1   \n",
            "10839  Free     Mature 17+          Books & Reference  Varies with device   \n",
            "10840  Free       Everyone                  Lifestyle  Varies with device   \n",
            "\n",
            "              Android Ver  \n",
            "0            4.0.3 and up  \n",
            "1            4.0.3 and up  \n",
            "2            4.0.3 and up  \n",
            "3              4.2 and up  \n",
            "4              4.4 and up  \n",
            "...                   ...  \n",
            "10836          4.1 and up  \n",
            "10837          4.1 and up  \n",
            "10838          2.2 and up  \n",
            "10839  Varies with device  \n",
            "10840  Varies with device  \n",
            "\n",
            "[10356 rows x 7 columns]\n"
          ]
        }
      ]
    },
    {
      "cell_type": "markdown",
      "source": [
        "Last Updated vs installs"
      ],
      "metadata": {
        "id": "PhxD3cnDQqLe"
      }
    },
    {
      "cell_type": "code",
      "source": [
        "import seaborn as sns\n",
        "# Set the figure size\n",
        "plt.figure(figsize=(12, 8))\n",
        "\n",
        "# Create a line plot for the relationship between 'Updated_Year' and 'Installs'\n",
        "sns.lineplot(x='Updated_Year', y='Installs', data=dataset)\n",
        "\n",
        "# Set the title, x-axis label, y-axis label, and rotate x-axis labels for better readability\n",
        "plt.title('Relationship between Last Updated Year and Installs')\n",
        "plt.xlabel('Updated_Year')\n",
        "plt.ylabel('Installs')\n",
        "plt.xticks(rotation=45)\n",
        "\n",
        "# Display the plot\n",
        "plt.show()"
      ],
      "metadata": {
        "colab": {
          "base_uri": "https://localhost:8080/",
          "height": 739
        },
        "id": "dI_KfY8aQq0o",
        "outputId": "24aba008-c9b5-4e5b-cb56-cd98b4e98470"
      },
      "execution_count": null,
      "outputs": [
        {
          "output_type": "display_data",
          "data": {
            "text/plain": [
              "<Figure size 1200x800 with 1 Axes>"
            ],
            "image/png": "[encoded data removed]"
          },
          "metadata": {}
        }
      ]
    },
    {
      "cell_type": "markdown",
      "source": [
        "App Rating by Type"
      ],
      "metadata": {
        "id": "zoBQwxNVSUtU"
      }
    },
    {
      "cell_type": "code",
      "source": [
        "# Create a boxplot for the distribution of app ratings by type (Free or Paid)\n",
        "plt.boxplot([dataset[dataset['Type'] == 'Free']['Rating'], dataset[dataset['Type'] == 'Paid']['Rating']],labels=['Free', 'Paid'])\n",
        "\n",
        "# Set the x-axis label, y-axis label, and title\n",
        "plt.xlabel('App Type')\n",
        "plt.ylabel('Rating')\n",
        "plt.title('App Rating by Type')\n",
        "\n",
        "# Display the plot\n",
        "plt.show()"
      ],
      "metadata": {
        "colab": {
          "base_uri": "https://localhost:8080/",
          "height": 472
        },
        "id": "_C0RTBCYUnCS",
        "outputId": "582802d7-47ad-457b-cbc2-e850e455237b"
      },
      "execution_count": null,
      "outputs": [
        {
          "output_type": "display_data",
          "data": {
            "text/plain": [
              "<Figure size 640x480 with 1 Axes>"
            ],
            "image/png": "[encoded data removed]"
          },
          "metadata": {}
        }
      ]
    },
    {
      "cell_type": "markdown",
      "source": [
        "Correlation matrix"
      ],
      "metadata": {
        "id": "4kwvQsMUcl6q"
      }
    },
    {
      "cell_type": "code",
      "source": [
        "import matplotlib.pyplot as plt\n",
        "import seaborn as sns\n",
        "\n",
        "# Calculate the correlation matrix\n",
        "correlation_matrix = dataset[['Rating', 'Reviews', 'Size','Installs','Price']].corr(numeric_only=True)\n",
        "\n",
        "# Plot the heatmap\n",
        "plt.figure(figsize=(10, 8))\n",
        "sns.heatmap(correlation_matrix, annot=True, cmap='coolwarm', fmt=\".2f\")\n",
        "plt.title('Correlation Matrix')\n",
        "plt.show()\n"
      ],
      "metadata": {
        "colab": {
          "base_uri": "https://localhost:8080/",
          "height": 699
        },
        "id": "LtpefUl7cmqz",
        "outputId": "4060ab9e-5a93-4ca7-fe50-90cbafd5695c"
      },
      "execution_count": null,
      "outputs": [
        {
          "output_type": "display_data",
          "data": {
            "text/plain": [
              "<Figure size 1000x800 with 2 Axes>"
            ],
            "image/png": "[encoded data removed]"
          },
          "metadata": {}
        }
      ]
    },
    {
      "cell_type": "markdown",
      "source": [
        "Pair Plot"
      ],
      "metadata": {
        "id": "k4_al08affnd"
      }
    },
    {
      "cell_type": "code",
      "source": [
        "import seaborn as sns\n",
        "import matplotlib.pyplot as plt\n",
        "\n",
        "# Set the style of the plot to whitegrid\n",
        "sns.set(style=\"whitegrid\")\n",
        "\n",
        "# Create a pairplot for the specified columns\n",
        "sns.pairplot(dataset[['Rating', 'Reviews', 'Installs', 'Price']])\n",
        "\n",
        "# Set the title above the plot\n",
        "plt.suptitle(\"Pairplot of Rating, Reviews, Installs, and Price\", y=1.02)\n",
        "\n",
        "# Display the plot\n",
        "plt.show()\n",
        "\n"
      ],
      "metadata": {
        "colab": {
          "base_uri": "https://localhost:8080/",
          "height": 1000
        },
        "id": "WL0XCjHlflKU",
        "outputId": "feb5ca42-452c-4354-9ea8-222ea8838191"
      },
      "execution_count": null,
      "outputs": [
        {
          "output_type": "display_data",
          "data": {
            "text/plain": [
              "<Figure size 1000x1000 with 20 Axes>"
            ],
            "image/png": "[encoded data removed]"
          },
          "metadata": {}
        }
      ]
    },
    {
      "cell_type": "code",
      "source": [
        "# Set the figure size\n",
        "plt.figure(figsize=(12, 8))\n",
        "\n",
        "# Create a bar plot for 'Installs' across different 'Content Ratings' with 'Type' as a hue\n",
        "sns.barplot(x=\"Content Rating\", y=\"Installs\", hue=\"Type\", data=dataset)\n",
        "\n",
        "# Display the plot\n",
        "plt.show()"
      ],
      "metadata": {
        "colab": {
          "base_uri": "https://localhost:8080/",
          "height": 720
        },
        "id": "TrRJ6AFuhzz5",
        "outputId": "252464d0-a320-4972-d6b8-8a8be6601bb8"
      },
      "execution_count": null,
      "outputs": [
        {
          "output_type": "display_data",
          "data": {
            "text/plain": [
              "<Figure size 1200x800 with 1 Axes>"
            ],
            "image/png": "[encoded data removed]"
          },
          "metadata": {}
        }
      ]
    }
  ]
}